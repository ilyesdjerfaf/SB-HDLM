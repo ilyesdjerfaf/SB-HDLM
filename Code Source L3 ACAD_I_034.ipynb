{
  "cells": [
    {
      "cell_type": "markdown",
      "metadata": {
        "id": "Zneqgh_CO7tC"
      },
      "source": [
        "#Imports"
      ]
    },
    {
      "cell_type": "code",
      "execution_count": 110,
      "metadata": {
        "id": "_S4ZwpwoO_5G"
      },
      "outputs": [],
      "source": [
        "import gc\n",
        "\n",
        "import numpy as np\n",
        "import pandas as pd\n",
        "from nltk.corpus import stopwords\n",
        "from nltk.stem.snowball import SnowballStemmer\n",
        "\n",
        "import gensim.downloader as api\n",
        "\n",
        "from sklearn import svm\n",
        "from sklearn.preprocessing import LabelEncoder\n",
        "from sklearn.model_selection import train_test_split\n",
        "from sklearn.feature_extraction.text import TfidfVectorizer\n",
        "from sklearn.naive_bayes import GaussianNB\n",
        "from sklearn.neighbors import KNeighborsClassifier\n",
        "import seaborn as sns\n",
        "\n",
        "from sklearn.metrics import accuracy_score, mean_absolute_error, mean_squared_error\n",
        "\n",
        "from keras.utils import np_utils\n",
        "from keras.models import Sequential\n",
        "from keras.preprocessing.text import Tokenizer\n",
        "from keras.preprocessing.sequence import pad_sequences\n",
        "from keras.callbacks import EarlyStopping, ModelCheckpoint\n",
        "from keras.layers import Dense, Flatten, LSTM, Conv1D, MaxPooling1D, Dropout, Activation, Embedding, Bidirectional, CuDNNLSTM, GRU, BatchNormalization, SimpleRNN\n",
        "from keras import backend\n",
        "\n",
        "from matplotlib import pyplot"
      ]
    },
    {
      "cell_type": "markdown",
      "metadata": {
        "id": "Xgp2PcIWPFm1"
      },
      "source": [
        "#Load Data"
      ]
    },
    {
      "cell_type": "markdown",
      "metadata": {
        "id": "owpTBlAxPLet"
      },
      "source": [
        "##Amazon Review Dataset"
      ]
    },
    {
      "cell_type": "code",
      "execution_count": 111,
      "metadata": {
        "colab": {
          "base_uri": "https://localhost:8080/"
        },
        "id": "XqtmOB6SPHqc",
        "outputId": "49d8b4ae-8ff8-457e-b31b-ee683beb7f4a"
      },
      "outputs": [
        {
          "output_type": "stream",
          "name": "stdout",
          "text": [
            "--2022-06-19 09:43:56--  http://snap.stanford.edu/data/amazon/productGraph/categoryFiles/reviews_Movies_and_TV_5.json.gz\n",
            "Resolving snap.stanford.edu (snap.stanford.edu)... 171.64.75.80\n",
            "Connecting to snap.stanford.edu (snap.stanford.edu)|171.64.75.80|:80... connected.\n",
            "HTTP request sent, awaiting response... 200 OK\n",
            "Length: 708988936 (676M) [application/x-gzip]\n",
            "Saving to: ‘reviews_Movies_and_TV_5.json.gz’\n",
            "\n",
            "reviews_Movies_and_ 100%[===================>] 676.14M  37.2MB/s    in 22s     \n",
            "\n",
            "2022-06-19 09:44:18 (31.4 MB/s) - ‘reviews_Movies_and_TV_5.json.gz’ saved [708988936/708988936]\n",
            "\n"
          ]
        }
      ],
      "source": [
        "!wget http://snap.stanford.edu/data/amazon/productGraph/categoryFiles/reviews_Movies_and_TV_5.json.gz\n",
        "#change Movies_and_Tv with Video_Games"
      ]
    },
    {
      "cell_type": "code",
      "execution_count": 112,
      "metadata": {
        "id": "LecdWu6vPfN4",
        "colab": {
          "base_uri": "https://localhost:8080/"
        },
        "outputId": "7901ebfe-cd0a-4c53-8740-d74b6e7234bb"
      },
      "outputs": [
        {
          "output_type": "stream",
          "name": "stdout",
          "text": [
            "gzip: reviews_Movies_and_TV_5.json already exists; do you wish to overwrite (y or n)? n\n",
            "\tnot overwritten\n"
          ]
        }
      ],
      "source": [
        "!gunzip reviews_Movies_and_TV_5.json.gz"
      ]
    },
    {
      "cell_type": "markdown",
      "metadata": {
        "id": "QPkNpZ8uP6LX"
      },
      "source": [
        "# Supporting Function"
      ]
    },
    {
      "cell_type": "markdown",
      "metadata": {
        "id": "8U-ABy3nP9Jv"
      },
      "source": [
        "## Combination Function"
      ]
    },
    {
      "cell_type": "code",
      "execution_count": 113,
      "metadata": {
        "id": "presO6IeQAgX"
      },
      "outputs": [],
      "source": [
        "def combine_preds_real(y_pred, y_real, pct_pred, pct_real, prob=False):\n",
        "\n",
        "  if prob == False:\n",
        "    #return np.ceil(y_pred * pct_pred + y_real * pct_real).astype(int)\n",
        "    return np.floor(y_pred * pct_pred + y_real * pct_real).astype(int)\n",
        "  \n",
        "  else:\n",
        "    y_classes_pred = y_pred.argmax(axis=-1) + 1\n",
        "    y_classes_real = y_real.argmax(axis=-1) + 1\n",
        "    #return np.ceil(y_classes_pred * pct_pred + y_classes_real * pct_real).astype(int)\n",
        "    return np.floor(y_classes_pred * pct_pred + y_classes_real * pct_real).astype(int)"
      ]
    },
    {
      "cell_type": "markdown",
      "metadata": {
        "id": "yEp3oBkLQIfS"
      },
      "source": [
        "## Metric Function"
      ]
    },
    {
      "cell_type": "code",
      "execution_count": 114,
      "metadata": {
        "id": "1u1qcwwyQJC1"
      },
      "outputs": [],
      "source": [
        "def metric_function(y_real, y_pred, prob = True):\n",
        "\n",
        "  if prob:\n",
        "    y_classes_pred = y_pred.argmax(axis=-1) + 1\n",
        "    y_classes_real = y_real.argmax(axis=-1) + 1\n",
        "    return mean_squared_error(y_classes_real, y_classes_pred, squared=False), mean_absolute_error(y_classes_real, y_classes_pred)\n",
        "  \n",
        "  return mean_squared_error(y_real, y_pred, squared=False), mean_absolute_error(y_real, y_pred)"
      ]
    },
    {
      "cell_type": "code",
      "execution_count": 115,
      "metadata": {
        "id": "3lBRJAEzLXyU"
      },
      "outputs": [],
      "source": [
        "def rmse(y_real, y_pred):\n",
        "    return backend.sqrt(backend.mean(backend.square(y_pred - y_real), axis=-1))"
      ]
    },
    {
      "cell_type": "markdown",
      "metadata": {
        "id": "uPkVA3-UQOa2"
      },
      "source": [
        "# Load Data"
      ]
    },
    {
      "cell_type": "code",
      "execution_count": 116,
      "metadata": {
        "id": "_7xJxGxdQOy0"
      },
      "outputs": [],
      "source": [
        "df_amazon = pd.read_json('reviews_Movies_and_TV_5.json', lines=True, nrows=20000)"
      ]
    },
    {
      "cell_type": "markdown",
      "metadata": {
        "id": "uIlchRMFQTJX"
      },
      "source": [
        "## Select reviewText and overall"
      ]
    },
    {
      "cell_type": "code",
      "execution_count": 117,
      "metadata": {
        "id": "Dyn3XqehQW0A"
      },
      "outputs": [],
      "source": [
        "df_amazon = df_amazon[['reviewText', 'overall']]"
      ]
    },
    {
      "cell_type": "markdown",
      "metadata": {
        "id": "WoPDQkEvQaPp"
      },
      "source": [
        "##Rename overall as rating"
      ]
    },
    {
      "cell_type": "code",
      "execution_count": 118,
      "metadata": {
        "id": "-qrHD13BQXcB"
      },
      "outputs": [],
      "source": [
        "df_amazon.rename(columns={'overall': 'rating'}, inplace=True)"
      ]
    },
    {
      "cell_type": "code",
      "execution_count": 119,
      "metadata": {
        "colab": {
          "base_uri": "https://localhost:8080/",
          "height": 143
        },
        "id": "i0r0y-7SQfKU",
        "outputId": "07682b79-4206-451f-bbee-a7a96c5e80ed"
      },
      "outputs": [
        {
          "output_type": "execute_result",
          "data": {
            "text/plain": [
              "                                              reviewText  rating\n",
              "4967   A great film and a classic one at that.  Even ...       5\n",
              "10643  This is possibly one of the most disturbing ma...       5\n",
              "1770   Though Joe Satriani starts of well the first t...       3"
            ],
            "text/html": [
              "\n",
              "  <div id=\"df-c14e5b1d-a78d-4af4-8918-84e2ae39772b\">\n",
              "    <div class=\"colab-df-container\">\n",
              "      <div>\n",
              "<style scoped>\n",
              "    .dataframe tbody tr th:only-of-type {\n",
              "        vertical-align: middle;\n",
              "    }\n",
              "\n",
              "    .dataframe tbody tr th {\n",
              "        vertical-align: top;\n",
              "    }\n",
              "\n",
              "    .dataframe thead th {\n",
              "        text-align: right;\n",
              "    }\n",
              "</style>\n",
              "<table border=\"1\" class=\"dataframe\">\n",
              "  <thead>\n",
              "    <tr style=\"text-align: right;\">\n",
              "      <th></th>\n",
              "      <th>reviewText</th>\n",
              "      <th>rating</th>\n",
              "    </tr>\n",
              "  </thead>\n",
              "  <tbody>\n",
              "    <tr>\n",
              "      <th>4967</th>\n",
              "      <td>A great film and a classic one at that.  Even ...</td>\n",
              "      <td>5</td>\n",
              "    </tr>\n",
              "    <tr>\n",
              "      <th>10643</th>\n",
              "      <td>This is possibly one of the most disturbing ma...</td>\n",
              "      <td>5</td>\n",
              "    </tr>\n",
              "    <tr>\n",
              "      <th>1770</th>\n",
              "      <td>Though Joe Satriani starts of well the first t...</td>\n",
              "      <td>3</td>\n",
              "    </tr>\n",
              "  </tbody>\n",
              "</table>\n",
              "</div>\n",
              "      <button class=\"colab-df-convert\" onclick=\"convertToInteractive('df-c14e5b1d-a78d-4af4-8918-84e2ae39772b')\"\n",
              "              title=\"Convert this dataframe to an interactive table.\"\n",
              "              style=\"display:none;\">\n",
              "        \n",
              "  <svg xmlns=\"http://www.w3.org/2000/svg\" height=\"24px\"viewBox=\"0 0 24 24\"\n",
              "       width=\"24px\">\n",
              "    <path d=\"M0 0h24v24H0V0z\" fill=\"none\"/>\n",
              "    <path d=\"M18.56 5.44l.94 2.06.94-2.06 2.06-.94-2.06-.94-.94-2.06-.94 2.06-2.06.94zm-11 1L8.5 8.5l.94-2.06 2.06-.94-2.06-.94L8.5 2.5l-.94 2.06-2.06.94zm10 10l.94 2.06.94-2.06 2.06-.94-2.06-.94-.94-2.06-.94 2.06-2.06.94z\"/><path d=\"M17.41 7.96l-1.37-1.37c-.4-.4-.92-.59-1.43-.59-.52 0-1.04.2-1.43.59L10.3 9.45l-7.72 7.72c-.78.78-.78 2.05 0 2.83L4 21.41c.39.39.9.59 1.41.59.51 0 1.02-.2 1.41-.59l7.78-7.78 2.81-2.81c.8-.78.8-2.07 0-2.86zM5.41 20L4 18.59l7.72-7.72 1.47 1.35L5.41 20z\"/>\n",
              "  </svg>\n",
              "      </button>\n",
              "      \n",
              "  <style>\n",
              "    .colab-df-container {\n",
              "      display:flex;\n",
              "      flex-wrap:wrap;\n",
              "      gap: 12px;\n",
              "    }\n",
              "\n",
              "    .colab-df-convert {\n",
              "      background-color: #E8F0FE;\n",
              "      border: none;\n",
              "      border-radius: 50%;\n",
              "      cursor: pointer;\n",
              "      display: none;\n",
              "      fill: #1967D2;\n",
              "      height: 32px;\n",
              "      padding: 0 0 0 0;\n",
              "      width: 32px;\n",
              "    }\n",
              "\n",
              "    .colab-df-convert:hover {\n",
              "      background-color: #E2EBFA;\n",
              "      box-shadow: 0px 1px 2px rgba(60, 64, 67, 0.3), 0px 1px 3px 1px rgba(60, 64, 67, 0.15);\n",
              "      fill: #174EA6;\n",
              "    }\n",
              "\n",
              "    [theme=dark] .colab-df-convert {\n",
              "      background-color: #3B4455;\n",
              "      fill: #D2E3FC;\n",
              "    }\n",
              "\n",
              "    [theme=dark] .colab-df-convert:hover {\n",
              "      background-color: #434B5C;\n",
              "      box-shadow: 0px 1px 3px 1px rgba(0, 0, 0, 0.15);\n",
              "      filter: drop-shadow(0px 1px 2px rgba(0, 0, 0, 0.3));\n",
              "      fill: #FFFFFF;\n",
              "    }\n",
              "  </style>\n",
              "\n",
              "      <script>\n",
              "        const buttonEl =\n",
              "          document.querySelector('#df-c14e5b1d-a78d-4af4-8918-84e2ae39772b button.colab-df-convert');\n",
              "        buttonEl.style.display =\n",
              "          google.colab.kernel.accessAllowed ? 'block' : 'none';\n",
              "\n",
              "        async function convertToInteractive(key) {\n",
              "          const element = document.querySelector('#df-c14e5b1d-a78d-4af4-8918-84e2ae39772b');\n",
              "          const dataTable =\n",
              "            await google.colab.kernel.invokeFunction('convertToInteractive',\n",
              "                                                     [key], {});\n",
              "          if (!dataTable) return;\n",
              "\n",
              "          const docLinkHtml = 'Like what you see? Visit the ' +\n",
              "            '<a target=\"_blank\" href=https://colab.research.google.com/notebooks/data_table.ipynb>data table notebook</a>'\n",
              "            + ' to learn more about interactive tables.';\n",
              "          element.innerHTML = '';\n",
              "          dataTable['output_type'] = 'display_data';\n",
              "          await google.colab.output.renderOutput(dataTable, element);\n",
              "          const docLink = document.createElement('div');\n",
              "          docLink.innerHTML = docLinkHtml;\n",
              "          element.appendChild(docLink);\n",
              "        }\n",
              "      </script>\n",
              "    </div>\n",
              "  </div>\n",
              "  "
            ]
          },
          "metadata": {},
          "execution_count": 119
        }
      ],
      "source": [
        "df_amazon.sample(3)"
      ]
    },
    {
      "cell_type": "markdown",
      "metadata": {
        "id": "Ij1aZl3gQkCc"
      },
      "source": [
        "## Quick visualization of rating distribution"
      ]
    },
    {
      "cell_type": "code",
      "execution_count": 120,
      "metadata": {
        "colab": {
          "base_uri": "https://localhost:8080/",
          "height": 283
        },
        "id": "p_d4dTt9QmPO",
        "outputId": "f78a1a1a-1624-48bc-9489-e7c7648bac83"
      },
      "outputs": [
        {
          "output_type": "execute_result",
          "data": {
            "text/plain": [
              "<matplotlib.axes._subplots.AxesSubplot at 0x7f4df9bba9d0>"
            ]
          },
          "metadata": {},
          "execution_count": 120
        },
        {
          "output_type": "display_data",
          "data": {
            "text/plain": [
              "<Figure size 432x288 with 1 Axes>"
            ],
            "image/png": "[encoded data removed]"
          },
          "metadata": {
            "needs_background": "light"
          }
        }
      ],
      "source": [
        "df_amazon.rating.value_counts().sort_index().plot(kind = 'barh')"
      ]
    },
    {
      "cell_type": "markdown",
      "metadata": {
        "id": "-fmmRUocQu4v"
      },
      "source": [
        "#Preprocessing"
      ]
    },
    {
      "cell_type": "markdown",
      "metadata": {
        "id": "PQZBexNwPp7T"
      },
      "source": [
        "##Natural Language Toolkit"
      ]
    },
    {
      "cell_type": "code",
      "execution_count": 121,
      "metadata": {
        "colab": {
          "base_uri": "https://localhost:8080/"
        },
        "id": "fwMbC7Z0PsGX",
        "outputId": "458b5ed9-ddc9-4a46-d02b-84a84c8b86e0"
      },
      "outputs": [
        {
          "output_type": "stream",
          "name": "stderr",
          "text": [
            "[nltk_data] Downloading package stopwords to /root/nltk_data...\n",
            "[nltk_data]   Package stopwords is already up-to-date!\n",
            "[nltk_data] Downloading package punkt to /root/nltk_data...\n",
            "[nltk_data]   Package punkt is already up-to-date!\n"
          ]
        },
        {
          "output_type": "execute_result",
          "data": {
            "text/plain": [
              "True"
            ]
          },
          "metadata": {},
          "execution_count": 121
        }
      ],
      "source": [
        "import nltk\n",
        "nltk.download('stopwords')\n",
        "nltk.download('punkt')"
      ]
    },
    {
      "cell_type": "code",
      "execution_count": 122,
      "metadata": {
        "colab": {
          "base_uri": "https://localhost:8080/"
        },
        "id": "eeN20ccRQqXo",
        "outputId": "a655ffff-e4d1-4b7b-f4e4-b331de88f02f"
      },
      "outputs": [
        {
          "output_type": "execute_result",
          "data": {
            "text/plain": [
              "2537     It is a good family movie. It is about teams t...\n",
              "12796    This is my favorite movie of all-time so of co...\n",
              "837      Mel Gibson's film about the trasgression of Je...\n",
              "Name: reviewText, dtype: object"
            ]
          },
          "metadata": {},
          "execution_count": 122
        }
      ],
      "source": [
        "df_amazon['reviewText'].sample(3)"
      ]
    },
    {
      "cell_type": "markdown",
      "metadata": {
        "id": "C9uOG5pOQ_kf"
      },
      "source": [
        "## Lowercase all the words"
      ]
    },
    {
      "cell_type": "code",
      "execution_count": 123,
      "metadata": {
        "id": "9zJV7vQpRC_M"
      },
      "outputs": [],
      "source": [
        "df_amazon['clean_review'] = df_amazon['reviewText'].str.lower()"
      ]
    },
    {
      "cell_type": "code",
      "execution_count": 124,
      "metadata": {
        "colab": {
          "base_uri": "https://localhost:8080/",
          "height": 81
        },
        "id": "Se3my4IYRE02",
        "outputId": "56b1578c-61d9-452a-d333-ac2087307363"
      },
      "outputs": [
        {
          "output_type": "execute_result",
          "data": {
            "text/plain": [
              "                                              reviewText  rating  \\\n",
              "11592  This is a musical that I can sit down and watc...       5   \n",
              "\n",
              "                                            clean_review  \n",
              "11592  this is a musical that i can sit down and watc...  "
            ],
            "text/html": [
              "\n",
              "  <div id=\"df-72024a40-6d5e-4888-97b9-42b3a814d312\">\n",
              "    <div class=\"colab-df-container\">\n",
              "      <div>\n",
              "<style scoped>\n",
              "    .dataframe tbody tr th:only-of-type {\n",
              "        vertical-align: middle;\n",
              "    }\n",
              "\n",
              "    .dataframe tbody tr th {\n",
              "        vertical-align: top;\n",
              "    }\n",
              "\n",
              "    .dataframe thead th {\n",
              "        text-align: right;\n",
              "    }\n",
              "</style>\n",
              "<table border=\"1\" class=\"dataframe\">\n",
              "  <thead>\n",
              "    <tr style=\"text-align: right;\">\n",
              "      <th></th>\n",
              "      <th>reviewText</th>\n",
              "      <th>rating</th>\n",
              "      <th>clean_review</th>\n",
              "    </tr>\n",
              "  </thead>\n",
              "  <tbody>\n",
              "    <tr>\n",
              "      <th>11592</th>\n",
              "      <td>This is a musical that I can sit down and watc...</td>\n",
              "      <td>5</td>\n",
              "      <td>this is a musical that i can sit down and watc...</td>\n",
              "    </tr>\n",
              "  </tbody>\n",
              "</table>\n",
              "</div>\n",
              "      <button class=\"colab-df-convert\" onclick=\"convertToInteractive('df-72024a40-6d5e-4888-97b9-42b3a814d312')\"\n",
              "              title=\"Convert this dataframe to an interactive table.\"\n",
              "              style=\"display:none;\">\n",
              "        \n",
              "  <svg xmlns=\"http://www.w3.org/2000/svg\" height=\"24px\"viewBox=\"0 0 24 24\"\n",
              "       width=\"24px\">\n",
              "    <path d=\"M0 0h24v24H0V0z\" fill=\"none\"/>\n",
              "    <path d=\"M18.56 5.44l.94 2.06.94-2.06 2.06-.94-2.06-.94-.94-2.06-.94 2.06-2.06.94zm-11 1L8.5 8.5l.94-2.06 2.06-.94-2.06-.94L8.5 2.5l-.94 2.06-2.06.94zm10 10l.94 2.06.94-2.06 2.06-.94-2.06-.94-.94-2.06-.94 2.06-2.06.94z\"/><path d=\"M17.41 7.96l-1.37-1.37c-.4-.4-.92-.59-1.43-.59-.52 0-1.04.2-1.43.59L10.3 9.45l-7.72 7.72c-.78.78-.78 2.05 0 2.83L4 21.41c.39.39.9.59 1.41.59.51 0 1.02-.2 1.41-.59l7.78-7.78 2.81-2.81c.8-.78.8-2.07 0-2.86zM5.41 20L4 18.59l7.72-7.72 1.47 1.35L5.41 20z\"/>\n",
              "  </svg>\n",
              "      </button>\n",
              "      \n",
              "  <style>\n",
              "    .colab-df-container {\n",
              "      display:flex;\n",
              "      flex-wrap:wrap;\n",
              "      gap: 12px;\n",
              "    }\n",
              "\n",
              "    .colab-df-convert {\n",
              "      background-color: #E8F0FE;\n",
              "      border: none;\n",
              "      border-radius: 50%;\n",
              "      cursor: pointer;\n",
              "      display: none;\n",
              "      fill: #1967D2;\n",
              "      height: 32px;\n",
              "      padding: 0 0 0 0;\n",
              "      width: 32px;\n",
              "    }\n",
              "\n",
              "    .colab-df-convert:hover {\n",
              "      background-color: #E2EBFA;\n",
              "      box-shadow: 0px 1px 2px rgba(60, 64, 67, 0.3), 0px 1px 3px 1px rgba(60, 64, 67, 0.15);\n",
              "      fill: #174EA6;\n",
              "    }\n",
              "\n",
              "    [theme=dark] .colab-df-convert {\n",
              "      background-color: #3B4455;\n",
              "      fill: #D2E3FC;\n",
              "    }\n",
              "\n",
              "    [theme=dark] .colab-df-convert:hover {\n",
              "      background-color: #434B5C;\n",
              "      box-shadow: 0px 1px 3px 1px rgba(0, 0, 0, 0.15);\n",
              "      filter: drop-shadow(0px 1px 2px rgba(0, 0, 0, 0.3));\n",
              "      fill: #FFFFFF;\n",
              "    }\n",
              "  </style>\n",
              "\n",
              "      <script>\n",
              "        const buttonEl =\n",
              "          document.querySelector('#df-72024a40-6d5e-4888-97b9-42b3a814d312 button.colab-df-convert');\n",
              "        buttonEl.style.display =\n",
              "          google.colab.kernel.accessAllowed ? 'block' : 'none';\n",
              "\n",
              "        async function convertToInteractive(key) {\n",
              "          const element = document.querySelector('#df-72024a40-6d5e-4888-97b9-42b3a814d312');\n",
              "          const dataTable =\n",
              "            await google.colab.kernel.invokeFunction('convertToInteractive',\n",
              "                                                     [key], {});\n",
              "          if (!dataTable) return;\n",
              "\n",
              "          const docLinkHtml = 'Like what you see? Visit the ' +\n",
              "            '<a target=\"_blank\" href=https://colab.research.google.com/notebooks/data_table.ipynb>data table notebook</a>'\n",
              "            + ' to learn more about interactive tables.';\n",
              "          element.innerHTML = '';\n",
              "          dataTable['output_type'] = 'display_data';\n",
              "          await google.colab.output.renderOutput(dataTable, element);\n",
              "          const docLink = document.createElement('div');\n",
              "          docLink.innerHTML = docLinkHtml;\n",
              "          element.appendChild(docLink);\n",
              "        }\n",
              "      </script>\n",
              "    </div>\n",
              "  </div>\n",
              "  "
            ]
          },
          "metadata": {},
          "execution_count": 124
        }
      ],
      "source": [
        "df_amazon.sample(1)"
      ]
    },
    {
      "cell_type": "markdown",
      "metadata": {
        "id": "Ft6RdBrRRH2A"
      },
      "source": [
        "## Remove punctuations"
      ]
    },
    {
      "cell_type": "code",
      "execution_count": 125,
      "metadata": {
        "colab": {
          "base_uri": "https://localhost:8080/"
        },
        "id": "VtxRenXDRIVS",
        "outputId": "06214a24-bad6-498b-ddd2-c9bf1aa35533"
      },
      "outputs": [
        {
          "output_type": "stream",
          "name": "stderr",
          "text": [
            "/usr/local/lib/python3.7/dist-packages/ipykernel_launcher.py:1: FutureWarning: The default value of regex will change from True to False in a future version.\n",
            "  \"\"\"Entry point for launching an IPython kernel.\n"
          ]
        }
      ],
      "source": [
        "df_amazon['clean_review'] = df_amazon['clean_review'].str.replace('[^\\w\\s]','')"
      ]
    },
    {
      "cell_type": "code",
      "execution_count": 126,
      "metadata": {
        "colab": {
          "base_uri": "https://localhost:8080/",
          "height": 81
        },
        "id": "B6jJwqqcRKXU",
        "outputId": "7c10e99f-fd43-40e9-a59c-d74523eeb862"
      },
      "outputs": [
        {
          "output_type": "execute_result",
          "data": {
            "text/plain": [
              "                                             reviewText  rating  \\\n",
              "1459  The only thing more disgusting than the violen...       1   \n",
              "\n",
              "                                           clean_review  \n",
              "1459  the only thing more disgusting than the violen...  "
            ],
            "text/html": [
              "\n",
              "  <div id=\"df-b4745fd2-531c-42de-899c-ee2bd5854de5\">\n",
              "    <div class=\"colab-df-container\">\n",
              "      <div>\n",
              "<style scoped>\n",
              "    .dataframe tbody tr th:only-of-type {\n",
              "        vertical-align: middle;\n",
              "    }\n",
              "\n",
              "    .dataframe tbody tr th {\n",
              "        vertical-align: top;\n",
              "    }\n",
              "\n",
              "    .dataframe thead th {\n",
              "        text-align: right;\n",
              "    }\n",
              "</style>\n",
              "<table border=\"1\" class=\"dataframe\">\n",
              "  <thead>\n",
              "    <tr style=\"text-align: right;\">\n",
              "      <th></th>\n",
              "      <th>reviewText</th>\n",
              "      <th>rating</th>\n",
              "      <th>clean_review</th>\n",
              "    </tr>\n",
              "  </thead>\n",
              "  <tbody>\n",
              "    <tr>\n",
              "      <th>1459</th>\n",
              "      <td>The only thing more disgusting than the violen...</td>\n",
              "      <td>1</td>\n",
              "      <td>the only thing more disgusting than the violen...</td>\n",
              "    </tr>\n",
              "  </tbody>\n",
              "</table>\n",
              "</div>\n",
              "      <button class=\"colab-df-convert\" onclick=\"convertToInteractive('df-b4745fd2-531c-42de-899c-ee2bd5854de5')\"\n",
              "              title=\"Convert this dataframe to an interactive table.\"\n",
              "              style=\"display:none;\">\n",
              "        \n",
              "  <svg xmlns=\"http://www.w3.org/2000/svg\" height=\"24px\"viewBox=\"0 0 24 24\"\n",
              "       width=\"24px\">\n",
              "    <path d=\"M0 0h24v24H0V0z\" fill=\"none\"/>\n",
              "    <path d=\"M18.56 5.44l.94 2.06.94-2.06 2.06-.94-2.06-.94-.94-2.06-.94 2.06-2.06.94zm-11 1L8.5 8.5l.94-2.06 2.06-.94-2.06-.94L8.5 2.5l-.94 2.06-2.06.94zm10 10l.94 2.06.94-2.06 2.06-.94-2.06-.94-.94-2.06-.94 2.06-2.06.94z\"/><path d=\"M17.41 7.96l-1.37-1.37c-.4-.4-.92-.59-1.43-.59-.52 0-1.04.2-1.43.59L10.3 9.45l-7.72 7.72c-.78.78-.78 2.05 0 2.83L4 21.41c.39.39.9.59 1.41.59.51 0 1.02-.2 1.41-.59l7.78-7.78 2.81-2.81c.8-.78.8-2.07 0-2.86zM5.41 20L4 18.59l7.72-7.72 1.47 1.35L5.41 20z\"/>\n",
              "  </svg>\n",
              "      </button>\n",
              "      \n",
              "  <style>\n",
              "    .colab-df-container {\n",
              "      display:flex;\n",
              "      flex-wrap:wrap;\n",
              "      gap: 12px;\n",
              "    }\n",
              "\n",
              "    .colab-df-convert {\n",
              "      background-color: #E8F0FE;\n",
              "      border: none;\n",
              "      border-radius: 50%;\n",
              "      cursor: pointer;\n",
              "      display: none;\n",
              "      fill: #1967D2;\n",
              "      height: 32px;\n",
              "      padding: 0 0 0 0;\n",
              "      width: 32px;\n",
              "    }\n",
              "\n",
              "    .colab-df-convert:hover {\n",
              "      background-color: #E2EBFA;\n",
              "      box-shadow: 0px 1px 2px rgba(60, 64, 67, 0.3), 0px 1px 3px 1px rgba(60, 64, 67, 0.15);\n",
              "      fill: #174EA6;\n",
              "    }\n",
              "\n",
              "    [theme=dark] .colab-df-convert {\n",
              "      background-color: #3B4455;\n",
              "      fill: #D2E3FC;\n",
              "    }\n",
              "\n",
              "    [theme=dark] .colab-df-convert:hover {\n",
              "      background-color: #434B5C;\n",
              "      box-shadow: 0px 1px 3px 1px rgba(0, 0, 0, 0.15);\n",
              "      filter: drop-shadow(0px 1px 2px rgba(0, 0, 0, 0.3));\n",
              "      fill: #FFFFFF;\n",
              "    }\n",
              "  </style>\n",
              "\n",
              "      <script>\n",
              "        const buttonEl =\n",
              "          document.querySelector('#df-b4745fd2-531c-42de-899c-ee2bd5854de5 button.colab-df-convert');\n",
              "        buttonEl.style.display =\n",
              "          google.colab.kernel.accessAllowed ? 'block' : 'none';\n",
              "\n",
              "        async function convertToInteractive(key) {\n",
              "          const element = document.querySelector('#df-b4745fd2-531c-42de-899c-ee2bd5854de5');\n",
              "          const dataTable =\n",
              "            await google.colab.kernel.invokeFunction('convertToInteractive',\n",
              "                                                     [key], {});\n",
              "          if (!dataTable) return;\n",
              "\n",
              "          const docLinkHtml = 'Like what you see? Visit the ' +\n",
              "            '<a target=\"_blank\" href=https://colab.research.google.com/notebooks/data_table.ipynb>data table notebook</a>'\n",
              "            + ' to learn more about interactive tables.';\n",
              "          element.innerHTML = '';\n",
              "          dataTable['output_type'] = 'display_data';\n",
              "          await google.colab.output.renderOutput(dataTable, element);\n",
              "          const docLink = document.createElement('div');\n",
              "          docLink.innerHTML = docLinkHtml;\n",
              "          element.appendChild(docLink);\n",
              "        }\n",
              "      </script>\n",
              "    </div>\n",
              "  </div>\n",
              "  "
            ]
          },
          "metadata": {},
          "execution_count": 126
        }
      ],
      "source": [
        "df_amazon.sample(1)"
      ]
    },
    {
      "cell_type": "markdown",
      "metadata": {
        "id": "jce8BYr7Q32Z"
      },
      "source": [
        "## Remove stopwords"
      ]
    },
    {
      "cell_type": "code",
      "execution_count": 127,
      "metadata": {
        "id": "4EDAeWK6Q4Vm"
      },
      "outputs": [],
      "source": [
        "stops = set(stopwords.words(\"english\"))"
      ]
    },
    {
      "cell_type": "code",
      "execution_count": 128,
      "metadata": {
        "id": "9zuHse-fQ6V_"
      },
      "outputs": [],
      "source": [
        "df_amazon['clean_review'] = df_amazon['clean_review'].apply(lambda x: ' '.join([word for word in x.split() if word not in (stops)]))"
      ]
    },
    {
      "cell_type": "code",
      "execution_count": 129,
      "metadata": {
        "colab": {
          "base_uri": "https://localhost:8080/",
          "height": 81
        },
        "id": "XY5JobchQ8cx",
        "outputId": "d48a7f5a-e5e7-478f-bf86-5debcc13129e"
      },
      "outputs": [
        {
          "output_type": "execute_result",
          "data": {
            "text/plain": [
              "                                             reviewText  rating  \\\n",
              "2998  This movie puts me in the Christmas spirit eve...       4   \n",
              "\n",
              "                                           clean_review  \n",
              "2998  movie puts christmas spirit every year main ch...  "
            ],
            "text/html": [
              "\n",
              "  <div id=\"df-d4b3485a-2cfa-4e0a-ae81-91fcc3fa5eb9\">\n",
              "    <div class=\"colab-df-container\">\n",
              "      <div>\n",
              "<style scoped>\n",
              "    .dataframe tbody tr th:only-of-type {\n",
              "        vertical-align: middle;\n",
              "    }\n",
              "\n",
              "    .dataframe tbody tr th {\n",
              "        vertical-align: top;\n",
              "    }\n",
              "\n",
              "    .dataframe thead th {\n",
              "        text-align: right;\n",
              "    }\n",
              "</style>\n",
              "<table border=\"1\" class=\"dataframe\">\n",
              "  <thead>\n",
              "    <tr style=\"text-align: right;\">\n",
              "      <th></th>\n",
              "      <th>reviewText</th>\n",
              "      <th>rating</th>\n",
              "      <th>clean_review</th>\n",
              "    </tr>\n",
              "  </thead>\n",
              "  <tbody>\n",
              "    <tr>\n",
              "      <th>2998</th>\n",
              "      <td>This movie puts me in the Christmas spirit eve...</td>\n",
              "      <td>4</td>\n",
              "      <td>movie puts christmas spirit every year main ch...</td>\n",
              "    </tr>\n",
              "  </tbody>\n",
              "</table>\n",
              "</div>\n",
              "      <button class=\"colab-df-convert\" onclick=\"convertToInteractive('df-d4b3485a-2cfa-4e0a-ae81-91fcc3fa5eb9')\"\n",
              "              title=\"Convert this dataframe to an interactive table.\"\n",
              "              style=\"display:none;\">\n",
              "        \n",
              "  <svg xmlns=\"http://www.w3.org/2000/svg\" height=\"24px\"viewBox=\"0 0 24 24\"\n",
              "       width=\"24px\">\n",
              "    <path d=\"M0 0h24v24H0V0z\" fill=\"none\"/>\n",
              "    <path d=\"M18.56 5.44l.94 2.06.94-2.06 2.06-.94-2.06-.94-.94-2.06-.94 2.06-2.06.94zm-11 1L8.5 8.5l.94-2.06 2.06-.94-2.06-.94L8.5 2.5l-.94 2.06-2.06.94zm10 10l.94 2.06.94-2.06 2.06-.94-2.06-.94-.94-2.06-.94 2.06-2.06.94z\"/><path d=\"M17.41 7.96l-1.37-1.37c-.4-.4-.92-.59-1.43-.59-.52 0-1.04.2-1.43.59L10.3 9.45l-7.72 7.72c-.78.78-.78 2.05 0 2.83L4 21.41c.39.39.9.59 1.41.59.51 0 1.02-.2 1.41-.59l7.78-7.78 2.81-2.81c.8-.78.8-2.07 0-2.86zM5.41 20L4 18.59l7.72-7.72 1.47 1.35L5.41 20z\"/>\n",
              "  </svg>\n",
              "      </button>\n",
              "      \n",
              "  <style>\n",
              "    .colab-df-container {\n",
              "      display:flex;\n",
              "      flex-wrap:wrap;\n",
              "      gap: 12px;\n",
              "    }\n",
              "\n",
              "    .colab-df-convert {\n",
              "      background-color: #E8F0FE;\n",
              "      border: none;\n",
              "      border-radius: 50%;\n",
              "      cursor: pointer;\n",
              "      display: none;\n",
              "      fill: #1967D2;\n",
              "      height: 32px;\n",
              "      padding: 0 0 0 0;\n",
              "      width: 32px;\n",
              "    }\n",
              "\n",
              "    .colab-df-convert:hover {\n",
              "      background-color: #E2EBFA;\n",
              "      box-shadow: 0px 1px 2px rgba(60, 64, 67, 0.3), 0px 1px 3px 1px rgba(60, 64, 67, 0.15);\n",
              "      fill: #174EA6;\n",
              "    }\n",
              "\n",
              "    [theme=dark] .colab-df-convert {\n",
              "      background-color: #3B4455;\n",
              "      fill: #D2E3FC;\n",
              "    }\n",
              "\n",
              "    [theme=dark] .colab-df-convert:hover {\n",
              "      background-color: #434B5C;\n",
              "      box-shadow: 0px 1px 3px 1px rgba(0, 0, 0, 0.15);\n",
              "      filter: drop-shadow(0px 1px 2px rgba(0, 0, 0, 0.3));\n",
              "      fill: #FFFFFF;\n",
              "    }\n",
              "  </style>\n",
              "\n",
              "      <script>\n",
              "        const buttonEl =\n",
              "          document.querySelector('#df-d4b3485a-2cfa-4e0a-ae81-91fcc3fa5eb9 button.colab-df-convert');\n",
              "        buttonEl.style.display =\n",
              "          google.colab.kernel.accessAllowed ? 'block' : 'none';\n",
              "\n",
              "        async function convertToInteractive(key) {\n",
              "          const element = document.querySelector('#df-d4b3485a-2cfa-4e0a-ae81-91fcc3fa5eb9');\n",
              "          const dataTable =\n",
              "            await google.colab.kernel.invokeFunction('convertToInteractive',\n",
              "                                                     [key], {});\n",
              "          if (!dataTable) return;\n",
              "\n",
              "          const docLinkHtml = 'Like what you see? Visit the ' +\n",
              "            '<a target=\"_blank\" href=https://colab.research.google.com/notebooks/data_table.ipynb>data table notebook</a>'\n",
              "            + ' to learn more about interactive tables.';\n",
              "          element.innerHTML = '';\n",
              "          dataTable['output_type'] = 'display_data';\n",
              "          await google.colab.output.renderOutput(dataTable, element);\n",
              "          const docLink = document.createElement('div');\n",
              "          docLink.innerHTML = docLinkHtml;\n",
              "          element.appendChild(docLink);\n",
              "        }\n",
              "      </script>\n",
              "    </div>\n",
              "  </div>\n",
              "  "
            ]
          },
          "metadata": {},
          "execution_count": 129
        }
      ],
      "source": [
        "df_amazon.sample(1)"
      ]
    },
    {
      "cell_type": "code",
      "execution_count": 130,
      "metadata": {
        "colab": {
          "base_uri": "https://localhost:8080/"
        },
        "id": "8xjgG7GuHskk",
        "outputId": "74e8b7c1-8d35-4310-df58-dd743ac1f9a7"
      },
      "outputs": [
        {
          "output_type": "stream",
          "name": "stdout",
          "text": [
            "['i', 'me', 'my', 'myself', 'we', 'our', 'ours', 'ourselves', 'you', \"you're\", \"you've\", \"you'll\", \"you'd\", 'your', 'yours', 'yourself', 'yourselves', 'he', 'him', 'his', 'himself', 'she', \"she's\", 'her', 'hers', 'herself', 'it', \"it's\", 'its', 'itself', 'they', 'them', 'their', 'theirs', 'themselves', 'what', 'which', 'who', 'whom', 'this', 'that', \"that'll\", 'these', 'those', 'am', 'is', 'are', 'was', 'were', 'be', 'been', 'being', 'have', 'has', 'had', 'having', 'do', 'does', 'did', 'doing', 'a', 'an', 'the', 'and', 'but', 'if', 'or', 'because', 'as', 'until', 'while', 'of', 'at', 'by', 'for', 'with', 'about', 'against', 'between', 'into', 'through', 'during', 'before', 'after', 'above', 'below', 'to', 'from', 'up', 'down', 'in', 'out', 'on', 'off', 'over', 'under', 'again', 'further', 'then', 'once', 'here', 'there', 'when', 'where', 'why', 'how', 'all', 'any', 'both', 'each', 'few', 'more', 'most', 'other', 'some', 'such', 'no', 'nor', 'not', 'only', 'own', 'same', 'so', 'than', 'too', 'very', 's', 't', 'can', 'will', 'just', 'don', \"don't\", 'should', \"should've\", 'now', 'd', 'll', 'm', 'o', 're', 've', 'y', 'ain', 'aren', \"aren't\", 'couldn', \"couldn't\", 'didn', \"didn't\", 'doesn', \"doesn't\", 'hadn', \"hadn't\", 'hasn', \"hasn't\", 'haven', \"haven't\", 'isn', \"isn't\", 'ma', 'mightn', \"mightn't\", 'mustn', \"mustn't\", 'needn', \"needn't\", 'shan', \"shan't\", 'shouldn', \"shouldn't\", 'wasn', \"wasn't\", 'weren', \"weren't\", 'won', \"won't\", 'wouldn', \"wouldn't\"]\n"
          ]
        }
      ],
      "source": [
        "print(stopwords.words(\"english\"))"
      ]
    },
    {
      "cell_type": "markdown",
      "metadata": {
        "id": "GAd6HhsgRNQR"
      },
      "source": [
        "## Stem the text using snowball stemmer"
      ]
    },
    {
      "cell_type": "code",
      "execution_count": 131,
      "metadata": {
        "id": "2sB1E-ccRQoo"
      },
      "outputs": [],
      "source": [
        "stemmer = SnowballStemmer(\"english\")"
      ]
    },
    {
      "cell_type": "code",
      "execution_count": 132,
      "metadata": {
        "id": "KBllo7DCRTpy"
      },
      "outputs": [],
      "source": [
        "df_amazon['stemmed_review'] = df_amazon['clean_review'].apply(lambda x: [stemmer.stem(y) for y in x.split()])"
      ]
    },
    {
      "cell_type": "code",
      "execution_count": 133,
      "metadata": {
        "id": "YiE7alq1RVkc"
      },
      "outputs": [],
      "source": [
        "df_amazon['clean_review'] = df_amazon['stemmed_review'].str.join(\" \")"
      ]
    },
    {
      "cell_type": "code",
      "execution_count": 134,
      "metadata": {
        "colab": {
          "base_uri": "https://localhost:8080/",
          "height": 81
        },
        "id": "9iacpDEVRXMf",
        "outputId": "c0f2bccc-5f39-462b-a112-fa8f85ec91d0"
      },
      "outputs": [
        {
          "output_type": "execute_result",
          "data": {
            "text/plain": [
              "                                             reviewText  rating  \\\n",
              "5418  A great movie, action , well acted, good story...       5   \n",
              "\n",
              "                                           clean_review  \\\n",
              "5418  great movi action well act good stori ask good...   \n",
              "\n",
              "                                         stemmed_review  \n",
              "5418  [great, movi, action, well, act, good, stori, ...  "
            ],
            "text/html": [
              "\n",
              "  <div id=\"df-02a12de2-896d-4a43-8a4e-81bee31128ff\">\n",
              "    <div class=\"colab-df-container\">\n",
              "      <div>\n",
              "<style scoped>\n",
              "    .dataframe tbody tr th:only-of-type {\n",
              "        vertical-align: middle;\n",
              "    }\n",
              "\n",
              "    .dataframe tbody tr th {\n",
              "        vertical-align: top;\n",
              "    }\n",
              "\n",
              "    .dataframe thead th {\n",
              "        text-align: right;\n",
              "    }\n",
              "</style>\n",
              "<table border=\"1\" class=\"dataframe\">\n",
              "  <thead>\n",
              "    <tr style=\"text-align: right;\">\n",
              "      <th></th>\n",
              "      <th>reviewText</th>\n",
              "      <th>rating</th>\n",
              "      <th>clean_review</th>\n",
              "      <th>stemmed_review</th>\n",
              "    </tr>\n",
              "  </thead>\n",
              "  <tbody>\n",
              "    <tr>\n",
              "      <th>5418</th>\n",
              "      <td>A great movie, action , well acted, good story...</td>\n",
              "      <td>5</td>\n",
              "      <td>great movi action well act good stori ask good...</td>\n",
              "      <td>[great, movi, action, well, act, good, stori, ...</td>\n",
              "    </tr>\n",
              "  </tbody>\n",
              "</table>\n",
              "</div>\n",
              "      <button class=\"colab-df-convert\" onclick=\"convertToInteractive('df-02a12de2-896d-4a43-8a4e-81bee31128ff')\"\n",
              "              title=\"Convert this dataframe to an interactive table.\"\n",
              "              style=\"display:none;\">\n",
              "        \n",
              "  <svg xmlns=\"http://www.w3.org/2000/svg\" height=\"24px\"viewBox=\"0 0 24 24\"\n",
              "       width=\"24px\">\n",
              "    <path d=\"M0 0h24v24H0V0z\" fill=\"none\"/>\n",
              "    <path d=\"M18.56 5.44l.94 2.06.94-2.06 2.06-.94-2.06-.94-.94-2.06-.94 2.06-2.06.94zm-11 1L8.5 8.5l.94-2.06 2.06-.94-2.06-.94L8.5 2.5l-.94 2.06-2.06.94zm10 10l.94 2.06.94-2.06 2.06-.94-2.06-.94-.94-2.06-.94 2.06-2.06.94z\"/><path d=\"M17.41 7.96l-1.37-1.37c-.4-.4-.92-.59-1.43-.59-.52 0-1.04.2-1.43.59L10.3 9.45l-7.72 7.72c-.78.78-.78 2.05 0 2.83L4 21.41c.39.39.9.59 1.41.59.51 0 1.02-.2 1.41-.59l7.78-7.78 2.81-2.81c.8-.78.8-2.07 0-2.86zM5.41 20L4 18.59l7.72-7.72 1.47 1.35L5.41 20z\"/>\n",
              "  </svg>\n",
              "      </button>\n",
              "      \n",
              "  <style>\n",
              "    .colab-df-container {\n",
              "      display:flex;\n",
              "      flex-wrap:wrap;\n",
              "      gap: 12px;\n",
              "    }\n",
              "\n",
              "    .colab-df-convert {\n",
              "      background-color: #E8F0FE;\n",
              "      border: none;\n",
              "      border-radius: 50%;\n",
              "      cursor: pointer;\n",
              "      display: none;\n",
              "      fill: #1967D2;\n",
              "      height: 32px;\n",
              "      padding: 0 0 0 0;\n",
              "      width: 32px;\n",
              "    }\n",
              "\n",
              "    .colab-df-convert:hover {\n",
              "      background-color: #E2EBFA;\n",
              "      box-shadow: 0px 1px 2px rgba(60, 64, 67, 0.3), 0px 1px 3px 1px rgba(60, 64, 67, 0.15);\n",
              "      fill: #174EA6;\n",
              "    }\n",
              "\n",
              "    [theme=dark] .colab-df-convert {\n",
              "      background-color: #3B4455;\n",
              "      fill: #D2E3FC;\n",
              "    }\n",
              "\n",
              "    [theme=dark] .colab-df-convert:hover {\n",
              "      background-color: #434B5C;\n",
              "      box-shadow: 0px 1px 3px 1px rgba(0, 0, 0, 0.15);\n",
              "      filter: drop-shadow(0px 1px 2px rgba(0, 0, 0, 0.3));\n",
              "      fill: #FFFFFF;\n",
              "    }\n",
              "  </style>\n",
              "\n",
              "      <script>\n",
              "        const buttonEl =\n",
              "          document.querySelector('#df-02a12de2-896d-4a43-8a4e-81bee31128ff button.colab-df-convert');\n",
              "        buttonEl.style.display =\n",
              "          google.colab.kernel.accessAllowed ? 'block' : 'none';\n",
              "\n",
              "        async function convertToInteractive(key) {\n",
              "          const element = document.querySelector('#df-02a12de2-896d-4a43-8a4e-81bee31128ff');\n",
              "          const dataTable =\n",
              "            await google.colab.kernel.invokeFunction('convertToInteractive',\n",
              "                                                     [key], {});\n",
              "          if (!dataTable) return;\n",
              "\n",
              "          const docLinkHtml = 'Like what you see? Visit the ' +\n",
              "            '<a target=\"_blank\" href=https://colab.research.google.com/notebooks/data_table.ipynb>data table notebook</a>'\n",
              "            + ' to learn more about interactive tables.';\n",
              "          element.innerHTML = '';\n",
              "          dataTable['output_type'] = 'display_data';\n",
              "          await google.colab.output.renderOutput(dataTable, element);\n",
              "          const docLink = document.createElement('div');\n",
              "          docLink.innerHTML = docLinkHtml;\n",
              "          element.appendChild(docLink);\n",
              "        }\n",
              "      </script>\n",
              "    </div>\n",
              "  </div>\n",
              "  "
            ]
          },
          "metadata": {},
          "execution_count": 134
        }
      ],
      "source": [
        "df_amazon.sample(1)"
      ]
    },
    {
      "cell_type": "markdown",
      "metadata": {
        "id": "I7WmcikfRYyI"
      },
      "source": [
        "# Embeddings"
      ]
    },
    {
      "cell_type": "markdown",
      "metadata": {
        "id": "6Q8gZYzPRc8Z"
      },
      "source": [
        "## TF-IDF"
      ]
    },
    {
      "cell_type": "code",
      "execution_count": 135,
      "metadata": {
        "id": "XApB0E5pRap-"
      },
      "outputs": [],
      "source": [
        "feature_extraction = TfidfVectorizer(max_features=2000)\n",
        "X_tfidf = feature_extraction.fit_transform(df_amazon['clean_review'].values)"
      ]
    },
    {
      "cell_type": "code",
      "execution_count": 136,
      "metadata": {
        "colab": {
          "base_uri": "https://localhost:8080/"
        },
        "id": "rHjzlsF1RlZT",
        "outputId": "4ceb63dc-17aa-4c75-d244-4a9bc32d428a"
      },
      "outputs": [
        {
          "output_type": "execute_result",
          "data": {
            "text/plain": [
              "33991"
            ]
          },
          "metadata": {},
          "execution_count": 136
        }
      ],
      "source": [
        "gc.collect()"
      ]
    },
    {
      "cell_type": "code",
      "execution_count": 137,
      "metadata": {
        "id": "NNvHD_kORu77"
      },
      "outputs": [],
      "source": [
        "### Create sequence\n",
        "vocabulary_size = 20000\n",
        "tokenizer = Tokenizer(num_words= vocabulary_size)\n",
        "tokenizer.fit_on_texts(df_amazon['clean_review'])"
      ]
    },
    {
      "cell_type": "code",
      "execution_count": 138,
      "metadata": {
        "id": "7uVwjaRrRykz"
      },
      "outputs": [],
      "source": [
        "sequences = tokenizer.texts_to_sequences(df_amazon['clean_review'])\n",
        "data = pad_sequences(sequences, maxlen=50)"
      ]
    },
    {
      "cell_type": "markdown",
      "metadata": {
        "id": "eZpbzAKeXkyu"
      },
      "source": [
        "##GloVe Embeddings"
      ]
    },
    {
      "cell_type": "code",
      "execution_count": 139,
      "metadata": {
        "colab": {
          "base_uri": "https://localhost:8080/"
        },
        "id": "x3DV58jRXoUi",
        "outputId": "a0a00a76-fd44-4821-bfae-db51e9bf422e"
      },
      "outputs": [
        {
          "output_type": "stream",
          "name": "stdout",
          "text": [
            "--2022-06-19 09:45:05--  http://nlp.stanford.edu/data/glove.6B.zip\n",
            "Resolving nlp.stanford.edu (nlp.stanford.edu)... 171.64.67.140\n",
            "Connecting to nlp.stanford.edu (nlp.stanford.edu)|171.64.67.140|:80... connected.\n",
            "HTTP request sent, awaiting response... 302 Found\n",
            "Location: https://nlp.stanford.edu/data/glove.6B.zip [following]\n",
            "--2022-06-19 09:45:05--  https://nlp.stanford.edu/data/glove.6B.zip\n",
            "Connecting to nlp.stanford.edu (nlp.stanford.edu)|171.64.67.140|:443... connected.\n",
            "HTTP request sent, awaiting response... 301 Moved Permanently\n",
            "Location: http://downloads.cs.stanford.edu/nlp/data/glove.6B.zip [following]\n",
            "--2022-06-19 09:45:05--  http://downloads.cs.stanford.edu/nlp/data/glove.6B.zip\n",
            "Resolving downloads.cs.stanford.edu (downloads.cs.stanford.edu)... 171.64.64.22\n",
            "Connecting to downloads.cs.stanford.edu (downloads.cs.stanford.edu)|171.64.64.22|:80... connected.\n",
            "HTTP request sent, awaiting response... 200 OK\n",
            "Length: 862182613 (822M) [application/zip]\n",
            "Saving to: ‘glove.6B.zip.1’\n",
            "\n",
            "glove.6B.zip.1      100%[===================>] 822.24M  5.30MB/s    in 2m 41s  \n",
            "\n",
            "2022-06-19 09:47:46 (5.12 MB/s) - ‘glove.6B.zip.1’ saved [862182613/862182613]\n",
            "\n"
          ]
        }
      ],
      "source": [
        "!wget http://nlp.stanford.edu/data/glove.6B.zip"
      ]
    },
    {
      "cell_type": "code",
      "execution_count": 140,
      "metadata": {
        "colab": {
          "base_uri": "https://localhost:8080/"
        },
        "id": "7PRVvFdmXr7m",
        "outputId": "e577f4c0-4f39-4875-95c5-1e90e0e34221"
      },
      "outputs": [
        {
          "output_type": "stream",
          "name": "stdout",
          "text": [
            "Archive:  glove.6B.zip\n",
            "replace glove.6B.50d.txt? [y]es, [n]o, [A]ll, [N]one, [r]ename: N\n"
          ]
        }
      ],
      "source": [
        "!unzip glove*.zip"
      ]
    },
    {
      "cell_type": "code",
      "execution_count": 141,
      "metadata": {
        "colab": {
          "base_uri": "https://localhost:8080/"
        },
        "id": "U6FPtuqJXtlY",
        "outputId": "40407c00-484b-4015-cd22-76825aa4825c"
      },
      "outputs": [
        {
          "output_type": "stream",
          "name": "stdout",
          "text": [
            "glove.6B.100d.txt  glove.6B.50d.txt  reviews_Movies_and_TV_5.json\n",
            "glove.6B.200d.txt  glove.6B.zip      reviews_Movies_and_TV_5.json.gz\n",
            "glove.6B.300d.txt  glove.6B.zip.1    sample_data\n"
          ]
        }
      ],
      "source": [
        "!ls"
      ]
    },
    {
      "cell_type": "code",
      "execution_count": 142,
      "metadata": {
        "id": "imceIX_AX1Jm"
      },
      "outputs": [],
      "source": [
        "embeddings_index_glove = dict()"
      ]
    },
    {
      "cell_type": "code",
      "execution_count": 143,
      "metadata": {
        "id": "5lNr4xNvX93t"
      },
      "outputs": [],
      "source": [
        "f = open('glove.6B.100d.txt')\n",
        "for line in f:\n",
        "    values = line.split()\n",
        "    word = values[0]\n",
        "    coefs = np.asarray(values[1:], dtype='float32')\n",
        "    embeddings_index_glove[word] = coefs\n",
        "f.close()"
      ]
    },
    {
      "cell_type": "code",
      "execution_count": 144,
      "metadata": {
        "id": "pFm3uODCX_Qs"
      },
      "outputs": [],
      "source": [
        "vocabulary_size = 20000"
      ]
    },
    {
      "cell_type": "code",
      "execution_count": 145,
      "metadata": {
        "id": "0n9dN5MFYAt6"
      },
      "outputs": [],
      "source": [
        "embedding_matrix_glove = np.zeros((vocabulary_size, 100))\n",
        "for word, index in tokenizer.word_index.items():\n",
        "    if index > vocabulary_size - 1:\n",
        "        break\n",
        "    else:\n",
        "        embedding_vector = embeddings_index_glove.get(word)\n",
        "        if embedding_vector is not None:\n",
        "            embedding_matrix_glove[index] = embedding_vector"
      ]
    },
    {
      "cell_type": "code",
      "execution_count": 146,
      "metadata": {
        "colab": {
          "base_uri": "https://localhost:8080/"
        },
        "id": "-kycsbL1YCM9",
        "outputId": "87e4b45d-e48e-433f-b68a-b35b35867327"
      },
      "outputs": [
        {
          "output_type": "execute_result",
          "data": {
            "text/plain": [
              "400000"
            ]
          },
          "metadata": {},
          "execution_count": 146
        }
      ],
      "source": [
        "len(embeddings_index_glove)"
      ]
    },
    {
      "cell_type": "markdown",
      "metadata": {
        "id": "uJM2JzYQVmRT"
      },
      "source": [
        "## Word2Vec"
      ]
    },
    {
      "cell_type": "code",
      "execution_count": 147,
      "metadata": {
        "id": "UiHepiucVr9e"
      },
      "outputs": [],
      "source": [
        "w2vec_gensim  = api.load('glove-wiki-gigaword-100')"
      ]
    },
    {
      "cell_type": "code",
      "execution_count": 148,
      "metadata": {
        "colab": {
          "base_uri": "https://localhost:8080/"
        },
        "id": "Amfy4qX3VuHH",
        "outputId": "2122fffc-2530-4a2d-879f-7c9388fdd5b8"
      },
      "outputs": [
        {
          "output_type": "execute_result",
          "data": {
            "text/plain": [
              "(20000, 100)"
            ]
          },
          "metadata": {},
          "execution_count": 148
        }
      ],
      "source": [
        "vector_size = 100\n",
        "embedding_matrix_w2v = np.zeros((vocabulary_size ,vector_size))\n",
        "embedding_matrix_w2v.shape"
      ]
    },
    {
      "cell_type": "code",
      "execution_count": 149,
      "metadata": {
        "colab": {
          "base_uri": "https://localhost:8080/"
        },
        "id": "U7a6UjHTVwMA",
        "outputId": "7aaf72b1-eb22-4f70-f22c-ac9fd47d7d9f"
      },
      "outputs": [
        {
          "output_type": "stream",
          "name": "stderr",
          "text": [
            "/usr/local/lib/python3.7/dist-packages/ipykernel_launcher.py:3: DeprecationWarning: Call to deprecated `wv` (Attribute will be removed in 4.0.0, use self instead).\n",
            "  This is separate from the ipykernel package so we can avoid doing imports until\n"
          ]
        }
      ],
      "source": [
        "for word, index in tokenizer.word_index.items():\n",
        "    if index < vocabulary_size: # since index starts with zero \n",
        "        if word in w2vec_gensim.wv.vocab:\n",
        "            embedding_matrix_w2v[index] = w2vec_gensim[word]\n",
        "        else:\n",
        "            embedding_matrix_w2v[index] = np.zeros(100)"
      ]
    },
    {
      "cell_type": "markdown",
      "metadata": {
        "id": "L28zs1_jR2EW"
      },
      "source": [
        "# Modelling"
      ]
    },
    {
      "cell_type": "markdown",
      "metadata": {
        "id": "JrrloW-1AILq"
      },
      "source": [
        "##Hyper Parametres"
      ]
    },
    {
      "cell_type": "code",
      "execution_count": 150,
      "metadata": {
        "id": "Jkv3OJsfAP3d"
      },
      "outputs": [],
      "source": [
        "epoch = 20\n",
        "batch = 128\n",
        "predicted_rating = 0.75\n",
        "real_rating = 1 - predicted_rating"
      ]
    },
    {
      "cell_type": "markdown",
      "metadata": {
        "id": "HHlSr7zkR97S"
      },
      "source": [
        "## KNN with TF-IDF Embeddings"
      ]
    },
    {
      "cell_type": "code",
      "execution_count": 151,
      "metadata": {
        "id": "oE0CYGLuR7Rm"
      },
      "outputs": [],
      "source": [
        "X_train, X_test, y_train, y_test = train_test_split(X_tfidf.todense(), df_amazon['rating'], test_size=0.2, stratify=df_amazon['rating'], random_state=42)"
      ]
    },
    {
      "cell_type": "code",
      "execution_count": 152,
      "metadata": {
        "colab": {
          "base_uri": "https://localhost:8080/"
        },
        "id": "EjVdSq_gSPos",
        "outputId": "38e843fd-eb11-4e06-e37e-d9b7e654368c"
      },
      "outputs": [
        {
          "output_type": "stream",
          "name": "stderr",
          "text": [
            "/usr/local/lib/python3.7/dist-packages/sklearn/utils/validation.py:598: FutureWarning: np.matrix usage is deprecated in 1.0 and will raise a TypeError in 1.2. Please convert to a numpy array with np.asarray. For more information see: https://numpy.org/doc/stable/reference/generated/numpy.matrix.html\n",
            "  FutureWarning,\n"
          ]
        },
        {
          "output_type": "execute_result",
          "data": {
            "text/plain": [
              "KNeighborsClassifier(n_neighbors=10)"
            ]
          },
          "metadata": {},
          "execution_count": 152
        }
      ],
      "source": [
        "neigh = KNeighborsClassifier(n_neighbors=10)\n",
        "neigh.fit(X_train, y_train)"
      ]
    },
    {
      "cell_type": "code",
      "execution_count": 153,
      "metadata": {
        "colab": {
          "base_uri": "https://localhost:8080/"
        },
        "id": "Vseu-bp9SRbX",
        "outputId": "e674b885-4b39-4e93-fc26-e0f4d59c13d6"
      },
      "outputs": [
        {
          "output_type": "stream",
          "name": "stderr",
          "text": [
            "/usr/local/lib/python3.7/dist-packages/sklearn/utils/validation.py:598: FutureWarning: np.matrix usage is deprecated in 1.0 and will raise a TypeError in 1.2. Please convert to a numpy array with np.asarray. For more information see: https://numpy.org/doc/stable/reference/generated/numpy.matrix.html\n",
            "  FutureWarning,\n"
          ]
        }
      ],
      "source": [
        "gnb_preds = neigh.predict(X_test)"
      ]
    },
    {
      "cell_type": "code",
      "execution_count": 154,
      "metadata": {
        "colab": {
          "base_uri": "https://localhost:8080/"
        },
        "id": "gpwszO9HSUAP",
        "outputId": "ebd6c193-ecb6-4941-bc33-fbd8b97b1333"
      },
      "outputs": [
        {
          "output_type": "execute_result",
          "data": {
            "text/plain": [
              "5    3923\n",
              "4      57\n",
              "3      10\n",
              "1       6\n",
              "2       4\n",
              "dtype: int64"
            ]
          },
          "metadata": {},
          "execution_count": 154
        }
      ],
      "source": [
        "pd.Series(gnb_preds).value_counts()"
      ]
    },
    {
      "cell_type": "markdown",
      "metadata": {
        "id": "Ij80eaaOTEgd"
      },
      "source": [
        "###Combination layer"
      ]
    },
    {
      "cell_type": "code",
      "execution_count": 155,
      "metadata": {
        "id": "I2EsOSjVSUhc"
      },
      "outputs": [],
      "source": [
        "y_test_combined_tfidf_knn = combine_preds_real(gnb_preds, y_test, predicted_rating, real_rating, prob=False)"
      ]
    },
    {
      "cell_type": "code",
      "execution_count": 156,
      "metadata": {
        "colab": {
          "base_uri": "https://localhost:8080/"
        },
        "id": "iyuxQIblSXGh",
        "outputId": "3e9bc52b-a846-471e-f083-6c14024bb3a3"
      },
      "outputs": [
        {
          "output_type": "execute_result",
          "data": {
            "text/plain": [
              "6483     5\n",
              "9259     5\n",
              "18694    4\n",
              "18580    5\n",
              "17183    3\n",
              "        ..\n",
              "13703    5\n",
              "13722    5\n",
              "3108     5\n",
              "11577    3\n",
              "4883     4\n",
              "Name: rating, Length: 4000, dtype: int64"
            ]
          },
          "metadata": {},
          "execution_count": 156
        }
      ],
      "source": [
        "y_test"
      ]
    },
    {
      "cell_type": "code",
      "execution_count": 157,
      "metadata": {
        "colab": {
          "base_uri": "https://localhost:8080/"
        },
        "id": "8D33-SKVSnqg",
        "outputId": "fabf1d28-9bce-45df-d175-04097db81328"
      },
      "outputs": [
        {
          "output_type": "execute_result",
          "data": {
            "text/plain": [
              "6483     5\n",
              "9259     5\n",
              "18694    4\n",
              "18580    5\n",
              "17183    4\n",
              "        ..\n",
              "13703    5\n",
              "13722    5\n",
              "3108     5\n",
              "11577    4\n",
              "4883     4\n",
              "Name: rating, Length: 4000, dtype: int64"
            ]
          },
          "metadata": {},
          "execution_count": 157
        }
      ],
      "source": [
        "y_test_combined_tfidf_knn"
      ]
    },
    {
      "cell_type": "markdown",
      "metadata": {
        "id": "n2LVm0QNSxCE"
      },
      "source": [
        "### Metrices"
      ]
    },
    {
      "cell_type": "code",
      "execution_count": 158,
      "metadata": {
        "id": "1gMkttJ9Sqd5"
      },
      "outputs": [],
      "source": [
        "mse_combined_tfidf_knn, mae_combined_tfidf_knn = metric_function(y_test, y_test_combined_tfidf_knn, prob=False)"
      ]
    },
    {
      "cell_type": "code",
      "execution_count": 159,
      "metadata": {
        "colab": {
          "base_uri": "https://localhost:8080/"
        },
        "id": "IFN_Cx13SsHB",
        "outputId": "1e36642d-a310-42b4-812d-523458316fec"
      },
      "outputs": [
        {
          "output_type": "execute_result",
          "data": {
            "text/plain": [
              "(0.8408329203831163, 0.3325)"
            ]
          },
          "metadata": {},
          "execution_count": 159
        }
      ],
      "source": [
        "mse_combined_tfidf_knn, mae_combined_tfidf_knn"
      ]
    },
    {
      "cell_type": "code",
      "execution_count": 160,
      "metadata": {
        "id": "Bwy78QqQSxtD"
      },
      "outputs": [],
      "source": [
        "mse_tfidf_knn, mae_tfidf_knn = metric_function(y_test, gnb_preds, prob=False)"
      ]
    },
    {
      "cell_type": "code",
      "execution_count": 161,
      "metadata": {
        "colab": {
          "base_uri": "https://localhost:8080/"
        },
        "id": "YN2ittI9S1EE",
        "outputId": "ae555872-d468-40e1-fb8f-720e628bac64"
      },
      "outputs": [
        {
          "output_type": "execute_result",
          "data": {
            "text/plain": [
              "(1.3172888825159044, 0.72575)"
            ]
          },
          "metadata": {},
          "execution_count": 161
        }
      ],
      "source": [
        "mse_tfidf_knn, mae_tfidf_knn"
      ]
    },
    {
      "cell_type": "markdown",
      "metadata": {
        "id": "LRDrpJ_tTber"
      },
      "source": [
        "## Neural Network with TF-IDF"
      ]
    },
    {
      "cell_type": "code",
      "execution_count": 162,
      "metadata": {
        "id": "wFl1Pc1rTcTJ"
      },
      "outputs": [],
      "source": [
        "encoder = LabelEncoder()\n",
        "encoder.fit(pd.concat([y_train, y_test]))\n",
        "encoded_y_train = encoder.transform(y_train)\n",
        "encoded_y_test = encoder.transform(y_test)\n",
        "# convert integers to dummy variables (i.e. one hot encoded)\n",
        "y_train_dummy = np_utils.to_categorical(encoded_y_train)\n",
        "y_test_dummy = np_utils.to_categorical(encoded_y_test)"
      ]
    },
    {
      "cell_type": "code",
      "execution_count": 163,
      "metadata": {
        "colab": {
          "base_uri": "https://localhost:8080/"
        },
        "id": "J77nWWM2TiKB",
        "outputId": "27567d07-3ae4-4ce6-f97a-655a5b52fbff"
      },
      "outputs": [
        {
          "output_type": "execute_result",
          "data": {
            "text/plain": [
              "(16000, 2000)"
            ]
          },
          "metadata": {},
          "execution_count": 163
        }
      ],
      "source": [
        "X_train.shape"
      ]
    },
    {
      "cell_type": "code",
      "execution_count": 164,
      "metadata": {
        "id": "uRsQ05j9Tjlr"
      },
      "outputs": [],
      "source": [
        "## create model\n",
        "model_tfidf_nn = Sequential()\n",
        "model_tfidf_nn.add(Dense(128, input_dim=2000, activation='relu'))\n",
        "model_tfidf_nn.add(Dropout(0.3))\n",
        "model_tfidf_nn.add(Dense(8, activation='relu'))\n",
        "model_tfidf_nn.add(Dropout(0.3))\n",
        "model_tfidf_nn.add(Dense(5, activation='softmax'))"
      ]
    },
    {
      "cell_type": "code",
      "execution_count": 165,
      "metadata": {
        "id": "EcE_PX7MTmpz"
      },
      "outputs": [],
      "source": [
        "model_tfidf_nn.compile(loss='categorical_crossentropy', optimizer='adam', metrics=['accuracy'])"
      ]
    },
    {
      "cell_type": "code",
      "execution_count": 166,
      "metadata": {
        "colab": {
          "base_uri": "https://localhost:8080/"
        },
        "id": "AF8CcifGTpZj",
        "outputId": "a8501405-5171-4cec-ed7d-0fec98023d63"
      },
      "outputs": [
        {
          "output_type": "stream",
          "name": "stdout",
          "text": [
            "Model: \"sequential_7\"\n",
            "_________________________________________________________________\n",
            " Layer (type)                Output Shape              Param #   \n",
            "=================================================================\n",
            " dense_9 (Dense)             (None, 128)               256128    \n",
            "                                                                 \n",
            " dropout_5 (Dropout)         (None, 128)               0         \n",
            "                                                                 \n",
            " dense_10 (Dense)            (None, 8)                 1032      \n",
            "                                                                 \n",
            " dropout_6 (Dropout)         (None, 8)                 0         \n",
            "                                                                 \n",
            " dense_11 (Dense)            (None, 5)                 45        \n",
            "                                                                 \n",
            "=================================================================\n",
            "Total params: 257,205\n",
            "Trainable params: 257,205\n",
            "Non-trainable params: 0\n",
            "_________________________________________________________________\n"
          ]
        }
      ],
      "source": [
        "model_tfidf_nn.summary()"
      ]
    },
    {
      "cell_type": "code",
      "execution_count": 167,
      "metadata": {
        "colab": {
          "base_uri": "https://localhost:8080/"
        },
        "id": "ScbeBscoTrEY",
        "outputId": "cab49c7e-a071-411f-b4a2-0fc52466277b"
      },
      "outputs": [
        {
          "output_type": "stream",
          "name": "stdout",
          "text": [
            "32/32 [==============================] - 1s 26ms/step - loss: 1.4964 - accuracy: 0.5084 - val_loss: 1.3169 - val_accuracy: 0.5985\n"
          ]
        },
        {
          "output_type": "execute_result",
          "data": {
            "text/plain": [
              "<keras.callbacks.History at 0x7f4e1db23790>"
            ]
          },
          "metadata": {},
          "execution_count": 167
        }
      ],
      "source": [
        "model_tfidf_nn.fit(X_train, y_train_dummy, validation_data=(X_test, y_test_dummy), epochs = 1, batch_size=512)"
      ]
    },
    {
      "cell_type": "markdown",
      "metadata": {
        "id": "y38FobSjYcia"
      },
      "source": [
        "###Combination layer"
      ]
    },
    {
      "cell_type": "code",
      "execution_count": 168,
      "metadata": {
        "id": "HeLy0FrZTszN"
      },
      "outputs": [],
      "source": [
        "y_test_combined_tfidf_nn = combine_preds_real(model_tfidf_nn.predict(X_test), y_test, predicted_rating, real_rating, prob=True)\n",
        "mse_combined_tfidf_nn, mae_combined_tfidf_nn = metric_function(y_test, y_test_combined_tfidf_nn, prob=False)"
      ]
    },
    {
      "cell_type": "markdown",
      "metadata": {
        "id": "g6hKnaFdYprh"
      },
      "source": [
        "###Metrics"
      ]
    },
    {
      "cell_type": "code",
      "execution_count": 169,
      "metadata": {
        "id": "mcUEmXnfTwDg"
      },
      "outputs": [],
      "source": [
        "mse_tfidf_nn, mae_tfidf_nn = metric_function(y_test_dummy, model_tfidf_nn.predict(X_test), prob=True)"
      ]
    },
    {
      "cell_type": "code",
      "execution_count": 170,
      "metadata": {
        "colab": {
          "base_uri": "https://localhost:8080/"
        },
        "id": "EMCqBNvGTxmT",
        "outputId": "dc47f541-d82e-430b-e4b1-58e455d8aba5"
      },
      "outputs": [
        {
          "output_type": "execute_result",
          "data": {
            "text/plain": [
              "(1.3192801067248758, 0.724)"
            ]
          },
          "metadata": {},
          "execution_count": 170
        }
      ],
      "source": [
        "mse_tfidf_nn, mae_tfidf_nn"
      ]
    },
    {
      "cell_type": "markdown",
      "metadata": {
        "id": "13s6d3hyYsnY"
      },
      "source": [
        "## Glove CNN LSTM"
      ]
    },
    {
      "cell_type": "code",
      "execution_count": 171,
      "metadata": {
        "id": "I1fwa7RGY5ra"
      },
      "outputs": [],
      "source": [
        "encoder = LabelEncoder()\n",
        "encoder.fit(df_amazon['rating'])\n",
        "encoded_Y = encoder.transform(df_amazon['rating'])\n",
        "# convert integers to dummy variables (i.e. one hot encoded)\n",
        "dummy_y = np_utils.to_categorical(encoded_Y)"
      ]
    },
    {
      "cell_type": "code",
      "execution_count": 172,
      "metadata": {
        "id": "x7Ze5yY4Y6yC"
      },
      "outputs": [],
      "source": [
        "X_train_embedding, X_test_embedding, y_train_embedding, y_test_embedding = train_test_split(data, dummy_y, test_size=0.2, stratify=dummy_y, random_state=42)"
      ]
    },
    {
      "cell_type": "code",
      "execution_count": 173,
      "metadata": {
        "id": "PinJbI3HY8xH"
      },
      "outputs": [],
      "source": [
        "## create model\n",
        "model_glove_cnn = Sequential()\n",
        "model_glove_cnn.add(Embedding(vocabulary_size, 100, input_length=50, weights=[embedding_matrix_glove], trainable=False))\n",
        "model_glove_cnn.add(Dropout(0.2))\n",
        "model_glove_cnn.add(Conv1D(256, 5, activation='relu'))\n",
        "model_glove_cnn.add(MaxPooling1D(pool_size=4))\n",
        "# model_glove_cnn.add(Conv1D(128, 5, activation='relu'))\n",
        "# model_glove_cnn.add(MaxPooling1D(pool_size=4))\n",
        "model_glove_cnn.add(LSTM(20))\n",
        "model_glove_cnn.add(Dense(5, activation='softmax'))"
      ]
    },
    {
      "cell_type": "code",
      "execution_count": 174,
      "metadata": {
        "id": "CfhsfXioZAmG"
      },
      "outputs": [],
      "source": [
        "model_glove_cnn.compile(loss='categorical_crossentropy', optimizer='adam', metrics=[rmse,'mae'])"
      ]
    },
    {
      "cell_type": "code",
      "execution_count": 175,
      "metadata": {
        "colab": {
          "base_uri": "https://localhost:8080/"
        },
        "id": "baWVAs1JZCFD",
        "outputId": "58c83467-58a3-457a-a5b7-42d16fdeaab8"
      },
      "outputs": [
        {
          "output_type": "stream",
          "name": "stdout",
          "text": [
            "Model: \"sequential_8\"\n",
            "_________________________________________________________________\n",
            " Layer (type)                Output Shape              Param #   \n",
            "=================================================================\n",
            " embedding_6 (Embedding)     (None, 50, 100)           2000000   \n",
            "                                                                 \n",
            " dropout_7 (Dropout)         (None, 50, 100)           0         \n",
            "                                                                 \n",
            " conv1d_3 (Conv1D)           (None, 46, 256)           128256    \n",
            "                                                                 \n",
            " max_pooling1d_3 (MaxPooling  (None, 11, 256)          0         \n",
            " 1D)                                                             \n",
            "                                                                 \n",
            " lstm_6 (LSTM)               (None, 20)                22160     \n",
            "                                                                 \n",
            " dense_12 (Dense)            (None, 5)                 105       \n",
            "                                                                 \n",
            "=================================================================\n",
            "Total params: 2,150,521\n",
            "Trainable params: 150,521\n",
            "Non-trainable params: 2,000,000\n",
            "_________________________________________________________________\n"
          ]
        }
      ],
      "source": [
        "model_glove_cnn.summary()"
      ]
    },
    {
      "cell_type": "code",
      "execution_count": 176,
      "metadata": {
        "colab": {
          "base_uri": "https://localhost:8080/"
        },
        "id": "aqNjDJQAZEyi",
        "outputId": "1cc2ea2b-5c83-4692-ecc9-0e980e81290b"
      },
      "outputs": [
        {
          "output_type": "stream",
          "name": "stdout",
          "text": [
            "Epoch 1/21\n",
            "250/250 [==============================] - 18s 64ms/step - loss: 1.1359 - rmse: 0.3119 - mae: 0.2310 - val_loss: 1.0998 - val_rmse: 0.3008 - val_mae: 0.2226\n",
            "Epoch 2/21\n",
            "250/250 [==============================] - 14s 55ms/step - loss: 1.0787 - rmse: 0.2985 - mae: 0.2208 - val_loss: 1.0626 - val_rmse: 0.2964 - val_mae: 0.2196\n",
            "Epoch 3/21\n",
            "250/250 [==============================] - 14s 55ms/step - loss: 1.0289 - rmse: 0.2892 - mae: 0.2137 - val_loss: 1.0534 - val_rmse: 0.2912 - val_mae: 0.2125\n",
            "Epoch 4/21\n",
            "250/250 [==============================] - 14s 57ms/step - loss: 0.9669 - rmse: 0.2763 - mae: 0.2036 - val_loss: 1.0479 - val_rmse: 0.2820 - val_mae: 0.2071\n",
            "Epoch 5/21\n",
            "250/250 [==============================] - 14s 55ms/step - loss: 0.9018 - rmse: 0.2632 - mae: 0.1936 - val_loss: 1.0520 - val_rmse: 0.2863 - val_mae: 0.2103\n",
            "Epoch 6/21\n",
            "250/250 [==============================] - 14s 55ms/step - loss: 0.8316 - rmse: 0.2470 - mae: 0.1812 - val_loss: 1.0848 - val_rmse: 0.2999 - val_mae: 0.2209\n",
            "Epoch 7/21\n",
            "250/250 [==============================] - 14s 54ms/step - loss: 0.7564 - rmse: 0.2301 - mae: 0.1683 - val_loss: 1.1009 - val_rmse: 0.2724 - val_mae: 0.1965\n",
            "Epoch 8/21\n",
            "250/250 [==============================] - 14s 57ms/step - loss: 0.6809 - rmse: 0.2129 - mae: 0.1551 - val_loss: 1.1650 - val_rmse: 0.2760 - val_mae: 0.1958\n",
            "Epoch 9/21\n",
            "250/250 [==============================] - 14s 57ms/step - loss: 0.5965 - rmse: 0.1917 - mae: 0.1388 - val_loss: 1.2040 - val_rmse: 0.2727 - val_mae: 0.1922\n",
            "Epoch 10/21\n",
            "250/250 [==============================] - 13s 54ms/step - loss: 0.5420 - rmse: 0.1768 - mae: 0.1272 - val_loss: 1.2541 - val_rmse: 0.2876 - val_mae: 0.2050\n",
            "Epoch 11/21\n",
            "250/250 [==============================] - 14s 55ms/step - loss: 0.4734 - rmse: 0.1585 - mae: 0.1134 - val_loss: 1.3408 - val_rmse: 0.2728 - val_mae: 0.1886\n",
            "Epoch 12/21\n",
            "250/250 [==============================] - 13s 53ms/step - loss: 0.4312 - rmse: 0.1450 - mae: 0.1030 - val_loss: 1.4191 - val_rmse: 0.2738 - val_mae: 0.1878\n",
            "Epoch 13/21\n",
            "250/250 [==============================] - 13s 51ms/step - loss: 0.3931 - rmse: 0.1340 - mae: 0.0947 - val_loss: 1.4654 - val_rmse: 0.2757 - val_mae: 0.1898\n",
            "Epoch 14/21\n",
            "250/250 [==============================] - 14s 56ms/step - loss: 0.3571 - rmse: 0.1237 - mae: 0.0870 - val_loss: 1.5002 - val_rmse: 0.2815 - val_mae: 0.1934\n",
            "Epoch 15/21\n",
            "250/250 [==============================] - 14s 57ms/step - loss: 0.3293 - rmse: 0.1147 - mae: 0.0803 - val_loss: 1.6149 - val_rmse: 0.2752 - val_mae: 0.1858\n",
            "Epoch 16/21\n",
            "250/250 [==============================] - 14s 54ms/step - loss: 0.3088 - rmse: 0.1083 - mae: 0.0754 - val_loss: 1.6358 - val_rmse: 0.2801 - val_mae: 0.1891\n",
            "Epoch 17/21\n",
            "250/250 [==============================] - 14s 56ms/step - loss: 0.2859 - rmse: 0.1008 - mae: 0.0699 - val_loss: 1.6519 - val_rmse: 0.2851 - val_mae: 0.1933\n",
            "Epoch 18/21\n",
            "250/250 [==============================] - 13s 54ms/step - loss: 0.2672 - rmse: 0.0947 - mae: 0.0655 - val_loss: 1.6947 - val_rmse: 0.2861 - val_mae: 0.1938\n",
            "Epoch 19/21\n",
            "250/250 [==============================] - 14s 56ms/step - loss: 0.2512 - rmse: 0.0885 - mae: 0.0611 - val_loss: 1.8007 - val_rmse: 0.2770 - val_mae: 0.1853\n",
            "Epoch 20/21\n",
            "250/250 [==============================] - 14s 57ms/step - loss: 0.2390 - rmse: 0.0847 - mae: 0.0582 - val_loss: 1.8253 - val_rmse: 0.2743 - val_mae: 0.1846\n",
            "Epoch 21/21\n",
            "250/250 [==============================] - 14s 57ms/step - loss: 0.2272 - rmse: 0.0803 - mae: 0.0551 - val_loss: 1.8188 - val_rmse: 0.2910 - val_mae: 0.1956\n"
          ]
        }
      ],
      "source": [
        "history_model_glove_cnn = model_glove_cnn.fit(X_train_embedding, y_train_embedding, validation_data=(X_test_embedding, y_test_embedding), epochs = epoch + 1, batch_size=64)"
      ]
    },
    {
      "cell_type": "markdown",
      "metadata": {
        "id": "aRNL-fHqkJhr"
      },
      "source": [
        "###Plotting"
      ]
    },
    {
      "cell_type": "code",
      "execution_count": 177,
      "metadata": {
        "colab": {
          "base_uri": "https://localhost:8080/",
          "height": 279
        },
        "id": "S7i8Jnx8RZlp",
        "outputId": "09bf984b-0019-4ab2-eaf7-c22834398ec9"
      },
      "outputs": [
        {
          "output_type": "display_data",
          "data": {
            "text/plain": [
              "<Figure size 432x288 with 1 Axes>"
            ],
            "image/png": "[encoded data removed]"
          },
          "metadata": {
            "needs_background": "light"
          }
        }
      ],
      "source": [
        "pyplot.plot(history_model_glove_cnn.history['rmse'], label='training rmse')\n",
        "pyplot.plot(history_model_glove_cnn.history['val_rmse'], label='validation rmse')\n",
        "pyplot.plot(history_model_glove_cnn.history['mae'], label='training mae')\n",
        "pyplot.plot(history_model_glove_cnn.history['val_mae'], label='validation mae')\n",
        "pyplot.legend()\n",
        "pyplot.xlabel('EPOCH')\n",
        "pyplot.show()"
      ]
    },
    {
      "cell_type": "markdown",
      "metadata": {
        "id": "ou6A6MU-ZUyo"
      },
      "source": [
        "###Combination layer "
      ]
    },
    {
      "cell_type": "code",
      "execution_count": 178,
      "metadata": {
        "id": "4JarLfy6ZsKO"
      },
      "outputs": [],
      "source": [
        "y_test_combined_glove_cnn = combine_preds_real(model_glove_cnn.predict(X_test_embedding), y_test, predicted_rating, real_rating, prob=True)\n",
        "mse_combined_glove_cnn, mae_combined_glove_cnn = metric_function(y_test, y_test_combined_glove_cnn, prob=False)"
      ]
    },
    {
      "cell_type": "markdown",
      "metadata": {
        "id": "2kRP6tsHZlVn"
      },
      "source": [
        "###Metrics"
      ]
    },
    {
      "cell_type": "code",
      "execution_count": 179,
      "metadata": {
        "colab": {
          "base_uri": "https://localhost:8080/"
        },
        "id": "9KwZnrDOZ6mH",
        "outputId": "41e1e044-31b5-49a7-c114-ab1b993eb8a1"
      },
      "outputs": [
        {
          "output_type": "execute_result",
          "data": {
            "text/plain": [
              "(1.597811002590732, 1.291)"
            ]
          },
          "metadata": {},
          "execution_count": 179
        }
      ],
      "source": [
        "mse_combined_glove_cnn, mae_combined_glove_cnn"
      ]
    },
    {
      "cell_type": "markdown",
      "metadata": {
        "id": "5gg5XOECWhtm"
      },
      "source": [
        "## GloVe RNN LSTM"
      ]
    },
    {
      "cell_type": "code",
      "execution_count": 180,
      "metadata": {
        "id": "EAYKbtm_W1I5"
      },
      "outputs": [],
      "source": [
        "## create model\n",
        "model_glove_rnn = Sequential()\n",
        "model_glove_rnn.add(Embedding(vocabulary_size, 100, input_length=50, weights=[embedding_matrix_glove], trainable=False))\n",
        "model_glove_rnn.add(LSTM(100, dropout=0.2, recurrent_dropout=0.2))\n",
        "model_glove_rnn.add(Dense(5, activation='softmax'))"
      ]
    },
    {
      "cell_type": "code",
      "execution_count": 181,
      "metadata": {
        "id": "YH3B0TnAW2VV"
      },
      "outputs": [],
      "source": [
        "model_glove_rnn.compile(loss='categorical_crossentropy', optimizer='adam', metrics=[rmse,'mae'])"
      ]
    },
    {
      "cell_type": "code",
      "execution_count": 182,
      "metadata": {
        "colab": {
          "base_uri": "https://localhost:8080/"
        },
        "id": "Zsy9ZOwJjh7J",
        "outputId": "036006dc-e365-432d-94c9-b6e7ae5aed66"
      },
      "outputs": [
        {
          "output_type": "stream",
          "name": "stdout",
          "text": [
            "Model: \"sequential_9\"\n",
            "_________________________________________________________________\n",
            " Layer (type)                Output Shape              Param #   \n",
            "=================================================================\n",
            " embedding_7 (Embedding)     (None, 50, 100)           2000000   \n",
            "                                                                 \n",
            " lstm_7 (LSTM)               (None, 100)               80400     \n",
            "                                                                 \n",
            " dense_13 (Dense)            (None, 5)                 505       \n",
            "                                                                 \n",
            "=================================================================\n",
            "Total params: 2,080,905\n",
            "Trainable params: 80,905\n",
            "Non-trainable params: 2,000,000\n",
            "_________________________________________________________________\n"
          ]
        }
      ],
      "source": [
        "model_glove_rnn.summary()"
      ]
    },
    {
      "cell_type": "code",
      "execution_count": 183,
      "metadata": {
        "colab": {
          "base_uri": "https://localhost:8080/"
        },
        "id": "o0nv6nLrbMtW",
        "outputId": "e1429677-035f-4b21-d9f6-61b158653caf"
      },
      "outputs": [
        {
          "output_type": "stream",
          "name": "stdout",
          "text": [
            "Epoch 1/21\n",
            "250/250 [==============================] - 32s 121ms/step - loss: 1.1224 - rmse: 0.3097 - mae: 0.2290 - val_loss: 1.0709 - val_rmse: 0.3100 - val_mae: 0.2288\n",
            "Epoch 2/21\n",
            "250/250 [==============================] - 30s 122ms/step - loss: 1.0482 - rmse: 0.2950 - mae: 0.2167 - val_loss: 1.0268 - val_rmse: 0.2902 - val_mae: 0.2108\n",
            "Epoch 3/21\n",
            "250/250 [==============================] - 30s 119ms/step - loss: 1.0181 - rmse: 0.2895 - mae: 0.2120 - val_loss: 1.0127 - val_rmse: 0.2850 - val_mae: 0.2086\n",
            "Epoch 4/21\n",
            "250/250 [==============================] - 31s 125ms/step - loss: 0.9990 - rmse: 0.2852 - mae: 0.2086 - val_loss: 1.0134 - val_rmse: 0.2850 - val_mae: 0.2047\n",
            "Epoch 5/21\n",
            "250/250 [==============================] - 30s 122ms/step - loss: 0.9828 - rmse: 0.2818 - mae: 0.2058 - val_loss: 1.0162 - val_rmse: 0.2764 - val_mae: 0.1978\n",
            "Epoch 6/21\n",
            "250/250 [==============================] - 30s 120ms/step - loss: 0.9604 - rmse: 0.2776 - mae: 0.2022 - val_loss: 1.0120 - val_rmse: 0.2922 - val_mae: 0.2167\n",
            "Epoch 7/21\n",
            "250/250 [==============================] - 30s 120ms/step - loss: 0.9425 - rmse: 0.2737 - mae: 0.1991 - val_loss: 1.0100 - val_rmse: 0.2954 - val_mae: 0.2148\n",
            "Epoch 8/21\n",
            "250/250 [==============================] - 30s 119ms/step - loss: 0.9224 - rmse: 0.2700 - mae: 0.1960 - val_loss: 1.0136 - val_rmse: 0.2656 - val_mae: 0.1896\n",
            "Epoch 9/21\n",
            "250/250 [==============================] - 32s 128ms/step - loss: 0.8950 - rmse: 0.2637 - mae: 0.1909 - val_loss: 0.9945 - val_rmse: 0.2742 - val_mae: 0.1975\n",
            "Epoch 10/21\n",
            "250/250 [==============================] - 32s 127ms/step - loss: 0.8762 - rmse: 0.2602 - mae: 0.1878 - val_loss: 1.0017 - val_rmse: 0.2870 - val_mae: 0.2103\n",
            "Epoch 11/21\n",
            "250/250 [==============================] - 30s 119ms/step - loss: 0.8507 - rmse: 0.2556 - mae: 0.1840 - val_loss: 1.0123 - val_rmse: 0.2756 - val_mae: 0.1955\n",
            "Epoch 12/21\n",
            "250/250 [==============================] - 30s 121ms/step - loss: 0.8318 - rmse: 0.2503 - mae: 0.1800 - val_loss: 1.0185 - val_rmse: 0.2770 - val_mae: 0.1987\n",
            "Epoch 13/21\n",
            "250/250 [==============================] - 30s 119ms/step - loss: 0.8070 - rmse: 0.2453 - mae: 0.1759 - val_loss: 1.0485 - val_rmse: 0.2703 - val_mae: 0.1902\n",
            "Epoch 14/21\n",
            "250/250 [==============================] - 29s 118ms/step - loss: 0.7863 - rmse: 0.2415 - mae: 0.1727 - val_loss: 1.0365 - val_rmse: 0.2712 - val_mae: 0.1931\n",
            "Epoch 15/21\n",
            "250/250 [==============================] - 30s 119ms/step - loss: 0.7592 - rmse: 0.2346 - mae: 0.1674 - val_loss: 1.0854 - val_rmse: 0.2668 - val_mae: 0.1874\n",
            "Epoch 16/21\n",
            "250/250 [==============================] - 30s 121ms/step - loss: 0.7409 - rmse: 0.2299 - mae: 0.1635 - val_loss: 1.0738 - val_rmse: 0.2697 - val_mae: 0.1906\n",
            "Epoch 17/21\n",
            "250/250 [==============================] - 31s 126ms/step - loss: 0.7162 - rmse: 0.2251 - mae: 0.1598 - val_loss: 1.1049 - val_rmse: 0.2658 - val_mae: 0.1877\n",
            "Epoch 18/21\n",
            "250/250 [==============================] - 30s 122ms/step - loss: 0.6954 - rmse: 0.2195 - mae: 0.1554 - val_loss: 1.1588 - val_rmse: 0.2777 - val_mae: 0.1977\n",
            "Epoch 19/21\n",
            "250/250 [==============================] - 31s 122ms/step - loss: 0.6804 - rmse: 0.2156 - mae: 0.1522 - val_loss: 1.1183 - val_rmse: 0.2748 - val_mae: 0.1924\n",
            "Epoch 20/21\n",
            "250/250 [==============================] - 30s 118ms/step - loss: 0.6583 - rmse: 0.2112 - mae: 0.1489 - val_loss: 1.1520 - val_rmse: 0.2794 - val_mae: 0.1963\n",
            "Epoch 21/21\n",
            "250/250 [==============================] - 30s 121ms/step - loss: 0.6389 - rmse: 0.2045 - mae: 0.1439 - val_loss: 1.1695 - val_rmse: 0.2711 - val_mae: 0.1879\n"
          ]
        }
      ],
      "source": [
        "history_model_glove_rnn = model_glove_rnn.fit(X_train_embedding, y_train_embedding, validation_data=(X_test_embedding, y_test_embedding), epochs = epoch + 1, batch_size=64)"
      ]
    },
    {
      "cell_type": "markdown",
      "metadata": {
        "id": "Se5kuV5vkV-T"
      },
      "source": [
        "###Plotting"
      ]
    },
    {
      "cell_type": "code",
      "execution_count": 184,
      "metadata": {
        "colab": {
          "base_uri": "https://localhost:8080/",
          "height": 279
        },
        "id": "rivC1957kYfT",
        "outputId": "a8f3f84b-1fbf-40e7-df02-ef789781df66"
      },
      "outputs": [
        {
          "output_type": "display_data",
          "data": {
            "text/plain": [
              "<Figure size 432x288 with 1 Axes>"
            ],
            "image/png": "[encoded data removed]"
          },
          "metadata": {
            "needs_background": "light"
          }
        }
      ],
      "source": [
        "pyplot.plot(history_model_glove_rnn.history['rmse'], label='training rmse')\n",
        "pyplot.plot(history_model_glove_rnn.history['val_rmse'], label='validation rmse')\n",
        "pyplot.plot(history_model_glove_rnn.history['mae'], label='training mae')\n",
        "pyplot.plot(history_model_glove_rnn.history['val_mae'], label='validation mae')\n",
        "pyplot.legend()\n",
        "pyplot.xlabel('EPOCH')\n",
        "pyplot.show()"
      ]
    },
    {
      "cell_type": "markdown",
      "metadata": {
        "id": "Rpj8d7tBXKKf"
      },
      "source": [
        "###Combination layer"
      ]
    },
    {
      "cell_type": "code",
      "execution_count": 185,
      "metadata": {
        "id": "dqx1oIcrXY-5"
      },
      "outputs": [],
      "source": [
        "y_test_combined_glove_rnn = combine_preds_real(model_glove_rnn.predict(X_test_embedding), y_test, predicted_rating, real_rating, prob=True)\n",
        "mse_combined_glove_rnn, mae_combined_glove_rnn = metric_function(y_test, y_test_combined_glove_rnn, prob=False)"
      ]
    },
    {
      "cell_type": "markdown",
      "metadata": {
        "id": "G1BmE6-MXG-V"
      },
      "source": [
        "###Metrics"
      ]
    },
    {
      "cell_type": "code",
      "execution_count": 186,
      "metadata": {
        "colab": {
          "base_uri": "https://localhost:8080/"
        },
        "id": "VsbtxAqEphyy",
        "outputId": "91281f2c-a125-430d-c82a-343473cc6e48"
      },
      "outputs": [
        {
          "output_type": "execute_result",
          "data": {
            "text/plain": [
              "(1.5453963892801097, 1.22975)"
            ]
          },
          "metadata": {},
          "execution_count": 186
        }
      ],
      "source": [
        "mse_combined_glove_rnn, mae_combined_glove_rnn"
      ]
    },
    {
      "cell_type": "markdown",
      "metadata": {
        "id": "MDcEhBLrYrFb"
      },
      "source": [
        "##Word2Vec CNN LSTM"
      ]
    },
    {
      "cell_type": "code",
      "execution_count": 187,
      "metadata": {
        "id": "ElLMLozmY5TL"
      },
      "outputs": [],
      "source": [
        "## create model\n",
        "model_w2v_cnn = Sequential()\n",
        "model_w2v_cnn.add(Embedding(vocabulary_size, 100, input_length=50, weights=[embedding_matrix_w2v], trainable=False))\n",
        "model_w2v_cnn.add(Dropout(0.2))\n",
        "model_w2v_cnn.add(Conv1D(256, 5, activation='relu'))\n",
        "model_w2v_cnn.add(MaxPooling1D(pool_size=4))\n",
        "# model_w2v_cnn.add(Conv1D(128, 5, activation='relu'))\n",
        "# model_w2v_cnn.add(MaxPooling1D(pool_size=4))\n",
        "model_w2v_cnn.add(LSTM(20))\n",
        "model_w2v_cnn.add(Dense(5, activation='softmax'))"
      ]
    },
    {
      "cell_type": "code",
      "execution_count": 188,
      "metadata": {
        "id": "dsqbcgT-Y63J"
      },
      "outputs": [],
      "source": [
        "model_w2v_cnn.compile(loss='categorical_crossentropy', optimizer='adam', metrics=[rmse,'mae'])"
      ]
    },
    {
      "cell_type": "code",
      "execution_count": 189,
      "metadata": {
        "colab": {
          "base_uri": "https://localhost:8080/"
        },
        "id": "oyZnQ1gcY8lk",
        "outputId": "6f27b751-47b7-4017-f1bc-6dffd5adc183"
      },
      "outputs": [
        {
          "output_type": "stream",
          "name": "stdout",
          "text": [
            "Epoch 1/21\n",
            "125/125 [==============================] - 16s 111ms/step - loss: 1.1445 - rmse: 0.3144 - mae: 0.2331 - val_loss: 1.1024 - val_rmse: 0.3064 - val_mae: 0.2276\n",
            "Epoch 2/21\n",
            "125/125 [==============================] - 12s 97ms/step - loss: 1.0792 - rmse: 0.2996 - mae: 0.2214 - val_loss: 1.0581 - val_rmse: 0.2912 - val_mae: 0.2121\n",
            "Epoch 3/21\n",
            "125/125 [==============================] - 12s 98ms/step - loss: 1.0299 - rmse: 0.2889 - mae: 0.2130 - val_loss: 1.0491 - val_rmse: 0.3012 - val_mae: 0.2236\n",
            "Epoch 4/21\n",
            "125/125 [==============================] - 13s 104ms/step - loss: 0.9743 - rmse: 0.2780 - mae: 0.2048 - val_loss: 1.0619 - val_rmse: 0.2744 - val_mae: 0.1974\n",
            "Epoch 5/21\n",
            "125/125 [==============================] - 12s 99ms/step - loss: 0.9248 - rmse: 0.2664 - mae: 0.1958 - val_loss: 1.0527 - val_rmse: 0.2746 - val_mae: 0.1980\n",
            "Epoch 6/21\n",
            "125/125 [==============================] - 12s 98ms/step - loss: 0.8612 - rmse: 0.2514 - mae: 0.1847 - val_loss: 1.0550 - val_rmse: 0.2772 - val_mae: 0.2037\n",
            "Epoch 7/21\n",
            "125/125 [==============================] - 12s 98ms/step - loss: 0.8086 - rmse: 0.2380 - mae: 0.1747 - val_loss: 1.0696 - val_rmse: 0.2845 - val_mae: 0.2072\n",
            "Epoch 8/21\n",
            "125/125 [==============================] - 12s 96ms/step - loss: 0.7415 - rmse: 0.2211 - mae: 0.1622 - val_loss: 1.1093 - val_rmse: 0.2907 - val_mae: 0.2123\n",
            "Epoch 9/21\n",
            "125/125 [==============================] - 12s 96ms/step - loss: 0.6888 - rmse: 0.2080 - mae: 0.1525 - val_loss: 1.1243 - val_rmse: 0.2870 - val_mae: 0.2096\n",
            "Epoch 10/21\n",
            "125/125 [==============================] - 12s 99ms/step - loss: 0.6277 - rmse: 0.1927 - mae: 0.1410 - val_loss: 1.1959 - val_rmse: 0.2728 - val_mae: 0.1920\n",
            "Epoch 11/21\n",
            "125/125 [==============================] - 12s 97ms/step - loss: 0.5794 - rmse: 0.1795 - mae: 0.1310 - val_loss: 1.2715 - val_rmse: 0.2643 - val_mae: 0.1857\n",
            "Epoch 12/21\n",
            "125/125 [==============================] - 12s 96ms/step - loss: 0.5288 - rmse: 0.1659 - mae: 0.1210 - val_loss: 1.2490 - val_rmse: 0.2857 - val_mae: 0.2013\n",
            "Epoch 13/21\n",
            "125/125 [==============================] - 12s 96ms/step - loss: 0.4973 - rmse: 0.1581 - mae: 0.1148 - val_loss: 1.2894 - val_rmse: 0.2867 - val_mae: 0.2022\n",
            "Epoch 14/21\n",
            "125/125 [==============================] - 12s 96ms/step - loss: 0.4548 - rmse: 0.1465 - mae: 0.1060 - val_loss: 1.3220 - val_rmse: 0.2754 - val_mae: 0.1916\n",
            "Epoch 15/21\n",
            "125/125 [==============================] - 12s 96ms/step - loss: 0.4289 - rmse: 0.1394 - mae: 0.1006 - val_loss: 1.3656 - val_rmse: 0.2762 - val_mae: 0.1922\n",
            "Epoch 16/21\n",
            "125/125 [==============================] - 12s 98ms/step - loss: 0.4037 - rmse: 0.1331 - mae: 0.0957 - val_loss: 1.4102 - val_rmse: 0.2809 - val_mae: 0.1950\n",
            "Epoch 17/21\n",
            "125/125 [==============================] - 12s 95ms/step - loss: 0.3586 - rmse: 0.1208 - mae: 0.0867 - val_loss: 1.4530 - val_rmse: 0.2813 - val_mae: 0.1935\n",
            "Epoch 18/21\n",
            "125/125 [==============================] - 12s 95ms/step - loss: 0.3489 - rmse: 0.1174 - mae: 0.0839 - val_loss: 1.4473 - val_rmse: 0.2871 - val_mae: 0.1998\n",
            "Epoch 19/21\n",
            "125/125 [==============================] - 12s 98ms/step - loss: 0.3261 - rmse: 0.1115 - mae: 0.0794 - val_loss: 1.5199 - val_rmse: 0.2788 - val_mae: 0.1924\n",
            "Epoch 20/21\n",
            "125/125 [==============================] - 13s 105ms/step - loss: 0.3048 - rmse: 0.1048 - mae: 0.0744 - val_loss: 1.6343 - val_rmse: 0.2715 - val_mae: 0.1837\n",
            "Epoch 21/21\n",
            "125/125 [==============================] - 12s 94ms/step - loss: 0.2853 - rmse: 0.0993 - mae: 0.0702 - val_loss: 1.7177 - val_rmse: 0.2654 - val_mae: 0.1774\n"
          ]
        }
      ],
      "source": [
        "history_model_w2v_cnn = model_w2v_cnn.fit(X_train_embedding, y_train_embedding, validation_data=(X_test_embedding, y_test_embedding), epochs = epoch + 1, batch_size=batch)"
      ]
    },
    {
      "cell_type": "markdown",
      "metadata": {
        "id": "JVpuLmVmrFo4"
      },
      "source": [
        "###plotting"
      ]
    },
    {
      "cell_type": "code",
      "execution_count": 190,
      "metadata": {
        "id": "74hY4TfHrHcN",
        "colab": {
          "base_uri": "https://localhost:8080/",
          "height": 279
        },
        "outputId": "88fbaaf4-eb9c-46c6-c6b3-f4acdfcd5cb6"
      },
      "outputs": [
        {
          "output_type": "display_data",
          "data": {
            "text/plain": [
              "<Figure size 432x288 with 1 Axes>"
            ],
            "image/png": "[encoded data removed]"
          },
          "metadata": {
            "needs_background": "light"
          }
        }
      ],
      "source": [
        "pyplot.plot(history_model_w2v_cnn.history['rmse'], label='training rmse')\n",
        "pyplot.plot(history_model_w2v_cnn.history['val_rmse'], label='validation rmse')\n",
        "pyplot.plot(history_model_w2v_cnn.history['mae'], label='training mae')\n",
        "pyplot.plot(history_model_w2v_cnn.history['val_mae'], label='validation mae')\n",
        "pyplot.legend()\n",
        "pyplot.xlabel('EPOCH')\n",
        "pyplot.show()"
      ]
    },
    {
      "cell_type": "markdown",
      "metadata": {
        "id": "CqCXwmEBZPw8"
      },
      "source": [
        "###Combination layer"
      ]
    },
    {
      "cell_type": "code",
      "execution_count": 191,
      "metadata": {
        "id": "NgAFxNoDZWsS"
      },
      "outputs": [],
      "source": [
        "y_test_combined_w2v_cnn = combine_preds_real(model_w2v_cnn.predict(X_test_embedding), y_test, predicted_rating, real_rating, prob=True)\n",
        "mse_combined_w2v_cnn, mae_combined_w2v_cnn = metric_function(y_test, y_test_combined_w2v_cnn, prob=False)"
      ]
    },
    {
      "cell_type": "markdown",
      "metadata": {
        "id": "7K3hqE2DZTo9"
      },
      "source": [
        "###Metrics"
      ]
    },
    {
      "cell_type": "code",
      "source": [
        "mse_combined_w2v_cnn, mae_combined_w2v_cnn"
      ],
      "metadata": {
        "colab": {
          "base_uri": "https://localhost:8080/"
        },
        "id": "L9vqFrNfVMB3",
        "outputId": "e14bc902-c1d5-4140-af00-414dcea16988"
      },
      "execution_count": 192,
      "outputs": [
        {
          "output_type": "execute_result",
          "data": {
            "text/plain": [
              "(1.4281106399715675, 1.147)"
            ]
          },
          "metadata": {},
          "execution_count": 192
        }
      ]
    },
    {
      "cell_type": "markdown",
      "metadata": {
        "id": "WMQdnybIZAXT"
      },
      "source": [
        "## Word2Vec RNN LSTM"
      ]
    },
    {
      "cell_type": "code",
      "execution_count": 193,
      "metadata": {
        "id": "tTfvfcCgZEb8"
      },
      "outputs": [],
      "source": [
        "## create model\n",
        "model_w2v_rnn = Sequential()\n",
        "model_w2v_rnn.add(Embedding(vocabulary_size, 100, input_length=50, weights=[embedding_matrix_w2v], trainable=False))\n",
        "model_w2v_rnn.add(LSTM(100, dropout=0.2, recurrent_dropout=0.2))\n",
        "model_w2v_rnn.add(Dense(5, activation='softmax'))"
      ]
    },
    {
      "cell_type": "code",
      "execution_count": 194,
      "metadata": {
        "id": "6P4OlR1AZINg"
      },
      "outputs": [],
      "source": [
        "model_w2v_rnn.compile(loss='categorical_crossentropy', optimizer='adam', metrics=[rmse,'mae'])"
      ]
    },
    {
      "cell_type": "code",
      "execution_count": 195,
      "metadata": {
        "id": "OBho1EECZJ9C",
        "colab": {
          "base_uri": "https://localhost:8080/"
        },
        "outputId": "30e06390-a635-4b86-c781-8ed1ade6f7a8"
      },
      "outputs": [
        {
          "output_type": "stream",
          "name": "stdout",
          "text": [
            "Epoch 1/21\n",
            "125/125 [==============================] - 26s 186ms/step - loss: 1.1288 - rmse: 0.3112 - mae: 0.2304 - val_loss: 1.0564 - val_rmse: 0.2965 - val_mae: 0.2174\n",
            "Epoch 2/21\n",
            "125/125 [==============================] - 23s 183ms/step - loss: 1.0599 - rmse: 0.2972 - mae: 0.2187 - val_loss: 1.0380 - val_rmse: 0.3026 - val_mae: 0.2243\n",
            "Epoch 3/21\n",
            "125/125 [==============================] - 23s 186ms/step - loss: 1.0288 - rmse: 0.2918 - mae: 0.2140 - val_loss: 1.0301 - val_rmse: 0.2748 - val_mae: 0.1990\n",
            "Epoch 4/21\n",
            "125/125 [==============================] - 23s 181ms/step - loss: 1.0192 - rmse: 0.2884 - mae: 0.2116 - val_loss: 1.0444 - val_rmse: 0.2953 - val_mae: 0.2107\n",
            "Epoch 5/21\n",
            "125/125 [==============================] - 23s 181ms/step - loss: 0.9958 - rmse: 0.2849 - mae: 0.2082 - val_loss: 1.0169 - val_rmse: 0.2783 - val_mae: 0.2026\n",
            "Epoch 6/21\n",
            "125/125 [==============================] - 23s 186ms/step - loss: 0.9816 - rmse: 0.2818 - mae: 0.2058 - val_loss: 1.0086 - val_rmse: 0.2759 - val_mae: 0.1978\n",
            "Epoch 7/21\n",
            "125/125 [==============================] - 23s 187ms/step - loss: 0.9683 - rmse: 0.2785 - mae: 0.2032 - val_loss: 1.0025 - val_rmse: 0.2863 - val_mae: 0.2095\n",
            "Epoch 8/21\n",
            "125/125 [==============================] - 24s 194ms/step - loss: 0.9509 - rmse: 0.2754 - mae: 0.2007 - val_loss: 1.0031 - val_rmse: 0.2779 - val_mae: 0.2026\n",
            "Epoch 9/21\n",
            "125/125 [==============================] - 23s 184ms/step - loss: 0.9434 - rmse: 0.2744 - mae: 0.1995 - val_loss: 0.9938 - val_rmse: 0.2841 - val_mae: 0.2057\n",
            "Epoch 10/21\n",
            "125/125 [==============================] - 23s 183ms/step - loss: 0.9242 - rmse: 0.2706 - mae: 0.1965 - val_loss: 0.9940 - val_rmse: 0.2789 - val_mae: 0.2013\n",
            "Epoch 11/21\n",
            "125/125 [==============================] - 23s 182ms/step - loss: 0.9072 - rmse: 0.2660 - mae: 0.1929 - val_loss: 0.9905 - val_rmse: 0.2859 - val_mae: 0.2070\n",
            "Epoch 12/21\n",
            "125/125 [==============================] - 23s 186ms/step - loss: 0.8901 - rmse: 0.2630 - mae: 0.1904 - val_loss: 1.0047 - val_rmse: 0.2777 - val_mae: 0.2000\n",
            "Epoch 13/21\n",
            "125/125 [==============================] - 24s 189ms/step - loss: 0.8734 - rmse: 0.2601 - mae: 0.1880 - val_loss: 1.0000 - val_rmse: 0.2781 - val_mae: 0.2019\n",
            "Epoch 14/21\n",
            "125/125 [==============================] - 23s 185ms/step - loss: 0.8532 - rmse: 0.2556 - mae: 0.1841 - val_loss: 1.0236 - val_rmse: 0.2705 - val_mae: 0.1917\n",
            "Epoch 15/21\n",
            "125/125 [==============================] - 23s 185ms/step - loss: 0.8483 - rmse: 0.2543 - mae: 0.1832 - val_loss: 1.0202 - val_rmse: 0.2783 - val_mae: 0.1976\n",
            "Epoch 16/21\n",
            "125/125 [==============================] - 24s 193ms/step - loss: 0.8223 - rmse: 0.2491 - mae: 0.1789 - val_loss: 1.0333 - val_rmse: 0.2748 - val_mae: 0.1942\n",
            "Epoch 17/21\n",
            "125/125 [==============================] - 23s 186ms/step - loss: 0.8063 - rmse: 0.2458 - mae: 0.1763 - val_loss: 1.0302 - val_rmse: 0.2794 - val_mae: 0.1986\n",
            "Epoch 18/21\n",
            "125/125 [==============================] - 23s 182ms/step - loss: 0.7899 - rmse: 0.2415 - mae: 0.1728 - val_loss: 1.0576 - val_rmse: 0.2675 - val_mae: 0.1887\n",
            "Epoch 19/21\n",
            "125/125 [==============================] - 23s 186ms/step - loss: 0.7682 - rmse: 0.2372 - mae: 0.1692 - val_loss: 1.0690 - val_rmse: 0.2742 - val_mae: 0.1920\n",
            "Epoch 20/21\n",
            "125/125 [==============================] - 23s 181ms/step - loss: 0.7588 - rmse: 0.2347 - mae: 0.1676 - val_loss: 1.0666 - val_rmse: 0.2803 - val_mae: 0.1975\n",
            "Epoch 21/21\n",
            "125/125 [==============================] - 23s 182ms/step - loss: 0.7367 - rmse: 0.2302 - mae: 0.1635 - val_loss: 1.0897 - val_rmse: 0.2707 - val_mae: 0.1899\n"
          ]
        }
      ],
      "source": [
        "history_model_w2v_rnn = model_w2v_rnn.fit(X_train_embedding, y_train_embedding, validation_data=(X_test_embedding, y_test_embedding), epochs = epoch + 1, batch_size=batch)"
      ]
    },
    {
      "cell_type": "markdown",
      "metadata": {
        "id": "WTRYRNQArcAs"
      },
      "source": [
        "###plotting"
      ]
    },
    {
      "cell_type": "code",
      "execution_count": 196,
      "metadata": {
        "id": "3saFjm2prdP9",
        "colab": {
          "base_uri": "https://localhost:8080/",
          "height": 279
        },
        "outputId": "123444d0-8cfe-4d74-feaf-72ccdebba841"
      },
      "outputs": [
        {
          "output_type": "display_data",
          "data": {
            "text/plain": [
              "<Figure size 432x288 with 1 Axes>"
            ],
            "image/png": "[encoded data removed]"
          },
          "metadata": {
            "needs_background": "light"
          }
        }
      ],
      "source": [
        "pyplot.plot(history_model_w2v_rnn.history['rmse'], label='training rmse')\n",
        "pyplot.plot(history_model_w2v_rnn.history['val_rmse'], label='validation rmse')\n",
        "pyplot.plot(history_model_w2v_rnn.history['mae'], label='training mae')\n",
        "pyplot.plot(history_model_w2v_rnn.history['val_mae'], label='validation mae')\n",
        "pyplot.legend()\n",
        "pyplot.xlabel('EPOCH')\n",
        "pyplot.show()"
      ]
    },
    {
      "cell_type": "markdown",
      "metadata": {
        "id": "kJUYCW1GZsQS"
      },
      "source": [
        "###Combination layer"
      ]
    },
    {
      "cell_type": "code",
      "execution_count": 197,
      "metadata": {
        "id": "fMvV3aNaZu5K"
      },
      "outputs": [],
      "source": [
        "y_test_combined_w2v_rnn = combine_preds_real(model_w2v_rnn.predict(X_test_embedding), y_test, predicted_rating, real_rating, prob=True)\n",
        "mse_combined_w2v_rnn, mae_combined_w2v_rnn = metric_function(y_test, y_test_combined_w2v_rnn, prob=False)"
      ]
    },
    {
      "cell_type": "markdown",
      "metadata": {
        "id": "KuuSkic6ZqV9"
      },
      "source": [
        "###Metrics"
      ]
    },
    {
      "cell_type": "code",
      "execution_count": 198,
      "metadata": {
        "id": "LisyUMGYZLjE",
        "colab": {
          "base_uri": "https://localhost:8080/"
        },
        "outputId": "fee614d2-3bb5-4075-cc8d-36106334b561"
      },
      "outputs": [
        {
          "output_type": "execute_result",
          "data": {
            "text/plain": [
              "(1.4575664650368434, 1.157)"
            ]
          },
          "metadata": {},
          "execution_count": 198
        }
      ],
      "source": [
        "mse_combined_w2v_rnn, mae_combined_w2v_rnn"
      ]
    }
  ],
  "metadata": {
    "colab": {
      "collapsed_sections": [],
      "name": "final_movies_done.ipynb",
      "provenance": [],
      "toc_visible": true
    },
    "kernelspec": {
      "display_name": "Python 3",
      "name": "python3"
    },
    "language_info": {
      "name": "python"
    }
  },
  "nbformat": 4,
  "nbformat_minor": 0
}